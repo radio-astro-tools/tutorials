{
 "metadata": {
  "language_info": {
   "codemirror_mode": {
    "name": "ipython",
    "version": 3
   },
   "file_extension": ".py",
   "mimetype": "text/x-python",
   "name": "python",
   "nbconvert_exporter": "python",
   "pygments_lexer": "ipython3",
   "version": "3.6.9-final"
  },
  "orig_nbformat": 2,
  "kernelspec": {
   "name": "python3",
   "display_name": "Python 3.6.9 64-bit ('casa_py36': conda)",
   "metadata": {
    "interpreter": {
     "hash": "2d716b7c92d5d4166e3213fb09c67a7f0504f606473c52b1c1916f6fd984541f"
    }
   }
  }
 },
 "nbformat": 4,
 "nbformat_minor": 2,
 "cells": [
  {
   "cell_type": "markdown",
   "metadata": {},
   "source": [
    "# A spectral-cube guide for CASA users #\n",
    "\n",
    "## Authors ##\n",
    "[Eric Koch](https://github.com/e-koch), [Adam Ginsburg](https://github.com/keflavich), [Tom Robitaille](https://github.com/astrofrog)\n",
    "\n",
    "## Summary ##\n",
    "\n",
    "This tutorial demonstrates how equivalent operations in spectral-cube and CASA for users familiar with CASA.\n",
    "\n",
    "*Note: This tutorial shows only basic uses of CASA tasks and tools. For a full list of capabilities, see the [CASA documentation](https://casa.nrao.edu/casadocs).*\n",
    "\n",
    "The spectral-cube operations will be demonstrated with dask enabled (see [the docs page](https://spectral-cube.readthedocs.io/en/latest/dask.html) on dask integration).\n",
    "\n",
    "## Learning goals ##\n",
    "\n",
    "* Using dask with spectral-cube\n",
    "* Cube statistics\n",
    "* Moment maps\n",
    "* Spectral fitting\n",
    "* Spatial fitting\n",
    "\n",
    "## Keywords ##\n",
    "\n",
    "radio astronomy, spectral-line data cubes, CASA\n",
    "\n",
    "## Requires ##\n",
    "\n",
    "*NOTE: this tutorial requires CASA 6 to be installed. Tested for versions up to CASA 6.1.*\n",
    "\n",
    "```\n",
    "pip install astropy\n",
    "pip install spectral-cube\n",
    "pip install radio-beam\n",
    "pip install dask\n",
    "pip install aplpy\n",
    "pip install --index-url https://casa-pip.nrao.edu/repository/pypi-casa-release/simple casatools\n",
    "pip install --index-url https://casa-pip.nrao.edu/repository/pypi-casa-release/simple casatasks\n",
    "```\n"
   ]
  },
  {
   "cell_type": "code",
   "execution_count": null,
   "metadata": {},
   "outputs": [],
   "source": [
    "%matplotlib inline\n",
    "\n",
    "import os\n",
    "from pathlib import Path\n",
    "from time import time\n",
    "import warnings\n",
    "\n",
    "import numpy as np\n",
    "import matplotlib.pyplot as plt\n",
    "plt.style.use('seaborn-colorblind')\n",
    "\n",
    "import astropy.units as u\n",
    "from astropy.io import fits\n",
    "from astropy.modeling import models, fitting\n",
    "\n",
    "from spectral_cube import SpectralCube\n",
    "\n",
    "# Uncomment to create a progress bar for all dask operations.\n",
    "# Disabled here as it increases the run time significantly for this small cube.\n",
    "# from dask.diagnostics import ProgressBar\n",
    "# pbar = ProgressBar()\n",
    "# pbar.register()"
   ]
  },
  {
   "cell_type": "markdown",
   "metadata": {},
   "source": [
    "For the comparisons below, we will import both `casatools` and `casatasks` which are CASA's \"tool\" and \"task\" level routines, respectively. See the [CASA documentation](https://casa.nrao.edu/casadocs/casa-6.0/usingcasa/casa-tasks-and-tools/tasks-and-tools) for more information."
   ]
  },
  {
   "cell_type": "code",
   "execution_count": null,
   "metadata": {},
   "outputs": [],
   "source": [
    "from casatasks import imfit, immoments, specfit\n",
    "from casatools import image\n",
    "\n",
    "# Load the image tool\n",
    "ia = image()"
   ]
  },
  {
   "cell_type": "markdown",
   "metadata": {},
   "source": [
    "For this tutorial, we will download a small region of M33 tracing the CO(2-1) molecular line transition. This is a region taken from a larger ALMA mosaic observed with the ACA (Morita) 7-m array (Project ID: 2019.1.01182.S)."
   ]
  },
  {
   "cell_type": "code",
   "execution_count": null,
   "metadata": {},
   "outputs": [],
   "source": [
    "from astropy.utils.data import download_file\n",
    "\n",
    "filename = download_file(\n",
    "    'https://zenodo.org/record/4050489/files/M33_ALMA_ACA_12CO21.cutout.fits',\n",
    "    cache=True, show_progress=True)\n",
    "\n",
    "# Note that the datafile will not end in \".fits\". Because of that, we need to specify the format\n",
    "# When the file name end in \"fits\", `format` will not need to be specified \n",
    "cube = SpectralCube.read(filename, format='fits', use_dask=True)\n",
    "\n",
    "# Convert to km/s for the spectral unit\n",
    "cube = cube.with_spectral_unit(u.km / u.s)"
   ]
  },
  {
   "cell_type": "markdown",
   "metadata": {},
   "source": [
    "## Cube statistics ##\n",
    "\n",
    "Both CASA and spectral-cube have a convienience function for computing common statistics for the entire data cube.\n",
    "\n",
    "In CASA, this is `ia.statistics`, while in spectral-cube, this is `SpectralCube.statistics` (note that this is currently defined only for a `DaskSpectralCube`, like what we use here).\n"
   ]
  },
  {
   "cell_type": "code",
   "execution_count": null,
   "metadata": {
    "tags": []
   },
   "outputs": [],
   "source": [
    "t0 = time()\n",
    "\n",
    "ia.open(filename)\n",
    "out = ia.statistics()\n",
    "ia.done()\n",
    "ia.close()\n",
    "\n",
    "t1 = time()\n",
    "\n",
    "time_casa_cubestats = t1 - t0\n",
    "\n",
    "print(f\"CASA cube statistics time: {time_casa_cubestats} s\")\n",
    "print(out)"
   ]
  },
  {
   "cell_type": "code",
   "execution_count": null,
   "metadata": {
    "tags": []
   },
   "outputs": [],
   "source": [
    "t0 = time()\n",
    "\n",
    "out_sc = cube.statistics()\n",
    "\n",
    "t1 = time()\n",
    "\n",
    "time_sc_cubestats = t1 - t0\n",
    "\n",
    "print(f\"SC cube statistics time: {time_sc_cubestats} s\")\n",
    "print(out_sc)"
   ]
  },
  {
   "cell_type": "markdown",
   "metadata": {},
   "source": [
    "For this small cube, both CASA and spectral-cube have a similar performance."
   ]
  },
  {
   "cell_type": "markdown",
   "metadata": {},
   "source": [
    "## Moment maps ##\n",
    "\n",
    "Moment maps are a common method used to analyze the signal in a spectral-line data cube. Typically, the first few moments calculated along the spectral dimensions have the information required for most analyses. These are defined as:\n",
    "\n",
    "* Moment 0: The integrated intensity in each spectrum. The units are the cube's brightness units multiplied by the spectral unit (e.g., K km/s).\n",
    "* Moment 1: The intensity weighted centroid along a spectrum. The units are in the spectral dimension in the cube (e.g., km/s or GHz).\n",
    "* Moment 2: The intensity weighted dispersion along a spectrum. The square root estimates the line width. The units are in the spectral dimension in the cube (e.g., km/s or GHz).\n",
    "* Peak intensity: The maximum in each spectrum. The units are the dimensions of the cube (e.g., K or Jy/beam)\n",
    "* Peak velocity: The spectral position of the maximum along a spectrum (i.e., the peak of a spectrum). The units are in the spectral dimension in the cube.\n",
    "\n",
    "Here we show the equivalent calls in spectral-cube and CASA to produce these moment maps.\n"
   ]
  },
  {
   "cell_type": "markdown",
   "metadata": {},
   "source": [
    "### Moment 0 ###\n",
    "\n",
    "In CASA, moment maps can be made in two ways: `immoments` (task level) and `ia.moments` (tool level). Both provide the ability to compute different types of moment maps.\n",
    "\n",
    "While the `immoments` task is likely the most common method to use, we will use `ia.moments` in this tutorial since it does not immediately save the moment map to a CASA image file. The equivalent calls for `immoments` are also shown.\n",
    "\n",
    "To produce the zeroth moment map:"
   ]
  },
  {
   "cell_type": "code",
   "execution_count": null,
   "metadata": {
    "tags": []
   },
   "outputs": [],
   "source": [
    "# Using `immoments`\n",
    "# immoments(filename, moments=0, axis='spec',\n",
    "#           outfile=outfilename)\n",
    "\n",
    "t0 = time()\n",
    "\n",
    "ia.open(filename)\n",
    "moment0 = ia.moments(moments=0, drop=True)\n",
    "ia.done()\n",
    "ia.close()\n",
    "\n",
    "t1 = time()\n",
    "\n",
    "time_casa_moment0 = t1 - t0\n",
    "\n",
    "print(f\"CASA cube moment 0 time: {time_casa_moment0} s\")"
   ]
  },
  {
   "cell_type": "markdown",
   "metadata": {},
   "source": [
    "There is one difference in how CASA saves the moment maps with respect to the original FITS file and how spectral-cube creates moment maps. The array from the CASA output will have the axes transposed with respect to the original FITS file.\n",
    "\n",
    "We will tranpose the axes here and for the other CASA-derived moment maps below."
   ]
  },
  {
   "cell_type": "code",
   "execution_count": null,
   "metadata": {
    "tags": []
   },
   "outputs": [],
   "source": [
    "# Image as a numpy array\n",
    "casa_moment0 = moment0.getchunk()\n",
    "\n",
    "# Close the CASA image\n",
    "moment0.done()\n",
    "moment0.close()\n",
    "\n",
    "casa_moment0 = casa_moment0.T"
   ]
  },
  {
   "cell_type": "markdown",
   "metadata": {},
   "source": [
    "In spectral-cube, there is a generic `SpectralCube.moment` function, and a separate `SpectralCube.moment0` function for convenience. The former just requires specifying the order of the moment."
   ]
  },
  {
   "cell_type": "code",
   "execution_count": null,
   "metadata": {
    "tags": []
   },
   "outputs": [],
   "source": [
    "# Using the general moment function:\n",
    "# sc_moment0 = cube.moment(order=0)\n",
    "\n",
    "t0 = time()\n",
    "\n",
    "sc_moment0 = cube.moment0()\n",
    "t1 = time()\n",
    "\n",
    "\n",
    "time_sc_moment0 = t1 - t0\n",
    "\n",
    "print(f\"SC cube moment0 time: {time_sc_moment0} s\")"
   ]
  },
  {
   "cell_type": "markdown",
   "metadata": {},
   "source": [
    "Here are the equivalent moment 0 maps from both CASA and spectral-cube:"
   ]
  },
  {
   "cell_type": "code",
   "execution_count": null,
   "metadata": {},
   "outputs": [],
   "source": [
    "plt.figure(figsize=(18, 6))\n",
    "\n",
    "plt.subplot(1, 3, 1)\n",
    "plt.title(\"CASA Moment 0\", fontsize=14)\n",
    "plt.imshow(casa_moment0, origin='lower')\n",
    "plt.colorbar()\n",
    "plt.subplot(1, 3, 2)\n",
    "plt.title(\"spectral-cube Moment 0\", fontsize=14)\n",
    "plt.imshow(sc_moment0.value, origin='lower')\n",
    "plt.colorbar()\n",
    "plt.subplot(1, 3, 3)\n",
    "plt.title(\"CASA - spectral-cube\\ndifference\", fontsize=14)\n",
    "plt.imshow(casa_moment0 - sc_moment0.value, origin='lower', cmap='bwr')\n",
    "plt.colorbar()\n",
    "\n"
   ]
  },
  {
   "cell_type": "markdown",
   "metadata": {},
   "source": [
    "The moment 0 maps are effectively equivalent. The ~1e-7 differences are likely due to floating point roundoff.\n",
    "\n",
    "When the cube has a varying beam (per spectral channel), differences in moment maps may also arise from differences between spectral-cube and CASA in how those beams are treated. spectral-cube checks for and allows operations when there are small variations in the beams (<1%`), and otherwise raises an error if the beams are too discrepant. CASA will automatically convolve each channel to the largest beam in the set of beams when computing the moment map."
   ]
  },
  {
   "cell_type": "markdown",
   "metadata": {},
   "source": [
    "### A note on masking ###\n",
    "\n",
    "With increasing order, the moment maps become more susceptible to noise in the cube. Because of this, it becomes necessary to impose a signal mask to exclude regions without signal from the moment maps.\n",
    "\n",
    "For this example, we will impose a simple mask based on the moment 0 maps above. There are 2 clear sources of signal in the above maps, and we will impose a spatial mask based on a threshold of the integrated intensity.\n",
    "\n",
    "**Note: You may notice a bright peak in the peak intensity map below. The cube we use in this tutorial is near the edge of the larger mosaic observed by ALMA. This apparent \"peak\" is due to the low primary beam coverage at this point and therefore is noisier.**\n",
    "\n",
    "We will add a link to a tutorial of more sophisticated masking techniques here in the future."
   ]
  },
  {
   "cell_type": "code",
   "execution_count": null,
   "metadata": {},
   "outputs": [],
   "source": [
    "spatial_mask = sc_moment0 > 8 * u.K * u.km / u.s\n",
    "\n",
    "masked_cube = cube.with_mask(spatial_mask)\n",
    "\n",
    "# COMMENT: Note that we are applying masks directly to the array read in here. However, CASA does include the ability to save masks directly to the image files."
   ]
  },
  {
   "cell_type": "markdown",
   "metadata": {},
   "source": [
    "### Moment 1 ###\n",
    "\n",
    "In CASA:"
   ]
  },
  {
   "cell_type": "code",
   "execution_count": null,
   "metadata": {
    "tags": []
   },
   "outputs": [],
   "source": [
    "# Using `immoments`\n",
    "# immoments(filename, moments=1, axis='spec',\n",
    "#           outfile=outfilename)\n",
    "\n",
    "t0 = time()\n",
    "\n",
    "ia.open(filename)\n",
    "moment1 = ia.moments(moments=1, drop=True)\n",
    "ia.done()\n",
    "ia.close()\n",
    "\n",
    "t1 = time()\n",
    "\n",
    "time_casa_moment1 = t1 - t0\n",
    "\n",
    "print(f\"CASA cube moment 1 time: {time_casa_moment1} s\")\n",
    "\n",
    "# Image as a numpy array\n",
    "casa_moment1 = moment1.getchunk()\n",
    "\n",
    "# Close the CASA image\n",
    "moment1.done()\n",
    "moment1.close()\n",
    "\n",
    "casa_moment1 = casa_moment1.T\n",
    "\n",
    "casa_moment1[~spatial_mask] = np.NaN\n"
   ]
  },
  {
   "cell_type": "markdown",
   "metadata": {},
   "source": [
    "In spectral-cube:"
   ]
  },
  {
   "cell_type": "code",
   "execution_count": null,
   "metadata": {
    "tags": []
   },
   "outputs": [],
   "source": [
    "# Using the general moment function:\n",
    "# sc_moment1 = cube.moment(order=1)\n",
    "\n",
    "t0 = time()\n",
    "\n",
    "sc_moment1 = masked_cube.moment1()\n",
    "t1 = time()\n",
    "\n",
    "\n",
    "time_sc_moment1 = t1 - t0\n",
    "\n",
    "print(f\"SC cube moment1 time: {time_sc_moment1} s\")"
   ]
  },
  {
   "cell_type": "code",
   "execution_count": null,
   "metadata": {},
   "outputs": [],
   "source": [
    "plt.figure(figsize=(18, 6))\n",
    "\n",
    "plt.subplot(1, 3, 1)\n",
    "plt.title(\"CASA Moment 1\", fontsize=14)\n",
    "plt.imshow(casa_moment1, origin='lower', cmap='bwr')\n",
    "plt.colorbar()\n",
    "plt.subplot(1, 3, 2)\n",
    "plt.title(\"spectral-cube Moment 1\", fontsize=14)\n",
    "plt.imshow(sc_moment1.value, origin='lower', cmap='bwr')\n",
    "plt.colorbar()\n",
    "plt.subplot(1, 3, 3)\n",
    "plt.title(\"CASA - spectral-cube\\ndifference\", fontsize=14)\n",
    "plt.imshow(casa_moment1 - sc_moment1.value, origin='lower', cmap='bwr')\n",
    "plt.colorbar()\n",
    "\n"
   ]
  },
  {
   "cell_type": "markdown",
   "metadata": {},
   "source": [
    "As with the moment 0 maps, the two moment 1 maps are essentially identical.\n",
    "\n",
    "Note that the channel widths in the cube are 0.7 km/s. The differences between the CASA and spectral-cube moment 1 maps is again negligible. "
   ]
  },
  {
   "cell_type": "markdown",
   "metadata": {},
   "source": [
    "### Moment 2 and line width ###\n",
    "\n",
    "The second moment map is the variance. Because of this, we are usually intrested in its square root---effectively the standard deviation. For a Gaussian line profile with very high signal-to-noise ratio, this standard deviation will be the line of the Gaussian.\n",
    "\n",
    "The moment 2 map in CASA is actually the line width, or the square root of the formal definition of the second moment. Because of this, no additional square root operation is needed."
   ]
  },
  {
   "cell_type": "code",
   "execution_count": null,
   "metadata": {
    "tags": []
   },
   "outputs": [],
   "source": [
    "# Using `immoments`\n",
    "# immoments(filename, moments=2, axis='spec',\n",
    "#           outfile=outfilename)\n",
    "\n",
    "t0 = time()\n",
    "\n",
    "ia.open(filename)\n",
    "moment2 = ia.moments(moments=2, drop=True)\n",
    "ia.done()\n",
    "ia.close()\n",
    "\n",
    "t1 = time()\n",
    "\n",
    "time_casa_moment2 = t1 - t0\n",
    "\n",
    "print(f\"CASA cube moment 2 time: {time_casa_moment2} s\")\n",
    "\n",
    "# Image as a numpy array\n",
    "casa_moment2 = moment2.getchunk()\n",
    "\n",
    "# Close the CASA image\n",
    "moment2.done()\n",
    "moment2.close()\n",
    "\n",
    "casa_moment2 = casa_moment2.squeeze()\n",
    "casa_moment2 = casa_moment2.T\n",
    "\n",
    "casa_moment2[~spatial_mask] = np.NaN\n",
    "\n",
    "print(filename)\n"
   ]
  },
  {
   "cell_type": "markdown",
   "metadata": {},
   "source": [
    "In spectral-cube, the moment 2 map is the formal definition equivalent to the variance. Therefore, it has units of the spectral dimension squared (e.g., (km/s)^2).\n",
    "\n",
    "The moment 2 is computed in the same way as shown above for the moment 1 map.\n",
    "\n",
    "However, in most cases, the square root of the second moment is of interest, or the equivalent to what CASA returns as the second moment. There are two functions to return the line width: one to return the Gaussian `sigma` (`SpectralCube.linewidth_sigma`) and the full-width-half-max (FWHM; `SpectralCube.linewidth_fwhm`). The former is equivalent to the definition used in CASA.\n",
    "\n",
    "First, to compute only the moment 2 map:"
   ]
  },
  {
   "cell_type": "code",
   "execution_count": null,
   "metadata": {
    "tags": []
   },
   "outputs": [],
   "source": [
    "# Using the general moment function:\n",
    "# sc_moment2 = cube.moment(order=2)\n",
    "\n",
    "t0 = time()\n",
    "\n",
    "sc_moment2 = masked_cube.moment2()\n",
    "t1 = time()\n",
    "\n",
    "\n",
    "time_sc_moment2 = t1 - t0\n",
    "\n",
    "print(f\"SC cube moment2 time: {time_sc_moment2} s\")"
   ]
  },
  {
   "cell_type": "markdown",
   "metadata": {},
   "source": [
    "And to directly compute the line width:"
   ]
  },
  {
   "cell_type": "code",
   "execution_count": null,
   "metadata": {},
   "outputs": [],
   "source": [
    "lwidth_sigma = masked_cube.linewidth_sigma()  # Equivalent to CASA's 2nd moment\n",
    "\n",
    "lwidth_fwhm = masked_cube.linewidth_fwhm()"
   ]
  },
  {
   "cell_type": "markdown",
   "metadata": {},
   "source": [
    "`lwidth_sigma` and `lwidth_fwhm` differ only by a factor of $\\sqrt{8 {\\rm ln} 2}$ (~2.35)."
   ]
  },
  {
   "cell_type": "markdown",
   "metadata": {},
   "source": [
    "Here, we plot the equivalent \"line width sigma\" to compare between CASA and spectral-cube:"
   ]
  },
  {
   "cell_type": "code",
   "execution_count": null,
   "metadata": {},
   "outputs": [],
   "source": [
    "plt.figure(figsize=(18, 6))\n",
    "\n",
    "plt.subplot(1, 3, 1)\n",
    "plt.title(\"CASA Moment 2\\n(line width sigma)\", fontsize=14)\n",
    "plt.imshow(casa_moment2, origin='lower')\n",
    "plt.colorbar()\n",
    "plt.subplot(1, 3, 2)\n",
    "plt.title(\"spectral-cube\\nline width sigma\", fontsize=14)\n",
    "plt.imshow(lwidth_sigma.value, origin='lower')\n",
    "plt.colorbar()\n",
    "plt.subplot(1, 3, 3)\n",
    "plt.title(\"CASA - spectral-cube\\ndifference\", fontsize=14)\n",
    "plt.imshow(casa_moment2 - lwidth_sigma.value, origin='lower', cmap='bwr')\n",
    "plt.colorbar()\n",
    "\n"
   ]
  },
  {
   "cell_type": "markdown",
   "metadata": {},
   "source": [
    "The values agree well between the CASA moment 2 and spectral-cube line width sigma. However, there are noticably fewer finite values in the spectral-cube version.\n",
    "\n",
    "The difference is due to how negative values are handled in the moment 2 (variance) map. When only signal is present, the moment 2 values should all be positive since the intensity will be positive.\n",
    "However, negative moment 2 values can be produced when noise is present and some intensity values are <0. In CASA, `immoments` takes the absolute value of the moment 2 variance before applying the square root. spectral-cube does not make this assumption, and so the additional NaN values above are due to places where the moment 2 value was negative.\n",
    "\n",
    "To exactly reproduce the CASA behaviour, the following can be compared:"
   ]
  },
  {
   "cell_type": "code",
   "execution_count": null,
   "metadata": {},
   "outputs": [],
   "source": [
    "plt.figure(figsize=(18, 6))\n",
    "\n",
    "plt.subplot(1, 3, 1)\n",
    "plt.title(\"CASA Moment 2\", fontsize=14)\n",
    "plt.imshow(casa_moment2, origin='lower')\n",
    "plt.colorbar()\n",
    "plt.subplot(1, 3, 2)\n",
    "plt.title(\"spectral-cube |Moment 2|$^{1/2}$\", fontsize=14)\n",
    "plt.imshow(np.sqrt(np.abs(sc_moment2.value)), origin='lower')\n",
    "plt.colorbar()\n",
    "plt.subplot(1, 3, 3)\n",
    "plt.title(\"CASA - spectral-cube\\ndifference\", fontsize=14)\n",
    "plt.imshow(casa_moment2 - np.sqrt(np.abs(sc_moment2.value)), origin='lower', cmap='bwr')\n",
    "plt.colorbar()\n",
    "\n"
   ]
  },
  {
   "cell_type": "markdown",
   "metadata": {},
   "source": [
    "Now the two match exactly.\n",
    "\n",
    "**Note:** When the moment 2 map has a negative value, it likely means additional masking is necessary. Taking the absolute value of the second moment map is equivalent to taking the absolute value of the spectrum, which is not representative of the noise properties and, critically, **will lead to an overestimate of the line width from the second moment.**\n",
    "\n",
    "In this simple example, we applied only a spatial mask and left some noisy regions along the spectral dimension. From the moment 1 maps above, we know that most of the signal is around -190 to -230 km/s. Using only that range, the line width map is:"
   ]
  },
  {
   "cell_type": "code",
   "execution_count": null,
   "metadata": {
    "tags": []
   },
   "outputs": [],
   "source": [
    "# Using a spectral range in CASA\n",
    "\n",
    "# Get the pixel range of the velocity range\n",
    "low_chan = cube.closest_spectral_channel(-230 * u.km / u.s)\n",
    "high_chan = cube.closest_spectral_channel(-190 * u.km / u.s)\n",
    "\n",
    "outfilename = f\"{filename.split('.')[0]}.moment2.image\"\n",
    "\n",
    "print(outfilename)\n",
    "\n",
    "if not os.path.exists(outfilename):\n",
    "    immoments(filename, moments=2, axis='spec',\n",
    "              outfile=outfilename,\n",
    "            #   mask=f'\"{filename}\">0.12',  # Mask out noise\n",
    "              chans=f'{low_chan}~{high_chan}', # Spectral slab where the signal is located\n",
    "              )\n",
    "\n",
    "# Image as a numpy array\n",
    "ia.open(outfilename)\n",
    "casa_moment2_slab = ia.getchunk().squeeze()\n",
    "\n",
    "# Close the CASA image\n",
    "ia.done()\n",
    "ia.close()\n",
    "\n",
    "casa_moment2_slab = casa_moment2_slab.T\n",
    "\n",
    "casa_moment2_slab[~spatial_mask] = np.NaN\n",
    "\n",
    "# Using a spectral range in spectral-cube\n",
    "\n",
    "lwidth_sigma_slab = masked_cube.spectral_slab(-190 * u.km / u.s, -230 * u.km / u.s).linewidth_sigma()\n",
    "\n",
    "plt.figure(figsize=(18, 6))\n",
    "\n",
    "plt.subplot(1, 3, 1)\n",
    "plt.title(\"CASA Moment 2\", fontsize=14)\n",
    "plt.imshow(casa_moment2_slab, origin='lower')\n",
    "plt.colorbar()\n",
    "\n",
    "plt.subplot(1, 3, 2)\n",
    "plt.title(\"spectral-cube line width sigma\", fontsize=14)\n",
    "plt.imshow(lwidth_sigma_slab.value, origin='lower')\n",
    "plt.colorbar()\n",
    "\n",
    "plt.subplot(1, 3, 3)\n",
    "plt.title(\"Residual\", fontsize=14)\n",
    "plt.imshow(casa_moment2_slab - lwidth_sigma_slab.value, origin='lower', cmap='bwr')\n",
    "plt.colorbar()"
   ]
  },
  {
   "cell_type": "markdown",
   "metadata": {},
   "source": [
    "Note that the line widths with the spectral masking are now **~5 times smaller**. Because the moment 2 map is a measure of variance, noisy values far from the moment 1 (centroid) value can cause an large overestimation in the line width."
   ]
  },
  {
   "cell_type": "markdown",
   "metadata": {},
   "source": [
    "### Peak intensity ###\n",
    "\n",
    "The peak intensity is simply the maximum along each spectrum.\n",
    "\n",
    "*Note: We use the cube without the spatial mask applied above. Bright signal will be evident, though a mask may be helpful when the peak signal-to-noise in the cube is small.*\n",
    "\n",
    "In CASA, this is defined as `moments=8`. This is simply the setting used in CASA and is not a formal definition for the 8th moment (which is not used in practice, anyways)."
   ]
  },
  {
   "cell_type": "code",
   "execution_count": null,
   "metadata": {
    "tags": []
   },
   "outputs": [],
   "source": [
    "# Using `immoments`\n",
    "# immoments(filename, moments=8, axis='spec',\n",
    "#           outfile=outfilename)\n",
    "\n",
    "t0 = time()\n",
    "\n",
    "ia.open(filename)\n",
    "moment8 = ia.moments(moments=8)\n",
    "ia.done()\n",
    "ia.close()\n",
    "\n",
    "t1 = time()\n",
    "\n",
    "time_casa_peak = t1 - t0\n",
    "\n",
    "print(f\"CASA cube peak intensity time: {time_casa_peak} s\")\n",
    "\n",
    "# Image as a numpy array\n",
    "casa_peakintensity = moment8.getchunk()\n",
    "\n",
    "# Close the CASA image\n",
    "moment8.done()\n",
    "moment8.close()\n",
    "\n",
    "casa_peakintensity = casa_peakintensity.squeeze()\n",
    "casa_peakintensity = casa_peakintensity.T\n",
    "\n"
   ]
  },
  {
   "cell_type": "markdown",
   "metadata": {},
   "source": [
    "In spectral-cube, the `SpectralCube.max` operation can be applied along the spectral dimension (`axis=0`):"
   ]
  },
  {
   "cell_type": "code",
   "execution_count": null,
   "metadata": {
    "tags": []
   },
   "outputs": [],
   "source": [
    "t0 = time()\n",
    "\n",
    "sc_peakintensity = cube.max(axis=0)\n",
    "\n",
    "t1 = time()\n",
    "\n",
    "\n",
    "time_sc_peak = t1 - t0\n",
    "\n",
    "print(f\"SC cube peak time: {time_sc_peak} s\")"
   ]
  },
  {
   "cell_type": "code",
   "execution_count": null,
   "metadata": {},
   "outputs": [],
   "source": [
    "plt.figure(figsize=(18, 6))\n",
    "\n",
    "plt.subplot(1, 3, 1)\n",
    "plt.title(\"CASA peak intensity\", fontsize=14)\n",
    "plt.imshow(casa_peakintensity, origin='lower')\n",
    "plt.colorbar()\n",
    "plt.subplot(1, 3, 2)\n",
    "plt.title(\"spectral-cube peak intensity\", fontsize=14)\n",
    "plt.imshow(sc_peakintensity.value, origin='lower')\n",
    "plt.colorbar()\n",
    "plt.subplot(1, 3, 3)\n",
    "plt.title(\"CASA - spectral-cube\\ndifference\", fontsize=14)\n",
    "plt.imshow(casa_peakintensity - sc_peakintensity.value, origin='lower', cmap='bwr')\n",
    "plt.colorbar()\n"
   ]
  },
  {
   "cell_type": "markdown",
   "metadata": {},
   "source": [
    "We clearly see two bright sources in the above peak intensity maps, along with possibly fainter signal bridging between the two. This fainter signal requires a more careful signal mask to derive its properties in the signal mask.\n",
    "\n",
    "Also, as noted above, the apparent bright peak in the upper right corner is where the noise increases at the edge of the observed mosaic, and is therefore not real signal."
   ]
  },
  {
   "cell_type": "markdown",
   "metadata": {},
   "source": [
    "### Peak velocity ###\n",
    "\n",
    "The peak velocity is the velocity (or equivalent spectral unit) where the peak intensity is located. Since this is only well-defined where signal is detected, we will use the masked cube again for this example.\n",
    "\n",
    "\n",
    "In CASA, the peak velocity is defined as `moments=9`, which similar to the peak intensity, is the label used for `immoments` or `ia.moments`.\n"
   ]
  },
  {
   "cell_type": "code",
   "execution_count": null,
   "metadata": {
    "tags": []
   },
   "outputs": [],
   "source": [
    "# Using `immoments`\n",
    "# immoments(filename, moments=9, axis='spec',\n",
    "#           outfile=outfilename)\n",
    "\n",
    "t0 = time()\n",
    "\n",
    "ia.open(filename)\n",
    "moment9 = ia.moments(moments=9)\n",
    "ia.done()\n",
    "ia.close()\n",
    "\n",
    "t1 = time()\n",
    "\n",
    "time_casa_peakvelocity = t1 - t0\n",
    "\n",
    "print(f\"CASA cube peak velocity time: {time_casa_peakvelocity} s\")\n",
    "\n",
    "# Image as a numpy array\n",
    "casa_peakvelocity = moment9.getchunk()\n",
    "\n",
    "# Close the CASA image\n",
    "moment9.done()\n",
    "moment9.close()\n",
    "\n",
    "casa_peakvelocity = casa_peakvelocity.squeeze()\n",
    "casa_peakvelocity = casa_peakvelocity.T\n",
    "\n",
    "casa_peakvelocity[~spatial_mask] = np.NaN\n"
   ]
  },
  {
   "cell_type": "markdown",
   "metadata": {},
   "source": [
    "In spectral-cube, the velocity at peak intensity can be computed with the `SpectralCube.argmax_world(axis=0)` function. This function will convert the pixel values from `SpectralCube.argmax` to the WCS coordinates along the given axis. Specifying `axis=0` will use the spectral axis and so will return the peak velocity."
   ]
  },
  {
   "cell_type": "code",
   "execution_count": null,
   "metadata": {
    "tags": []
   },
   "outputs": [],
   "source": [
    "t0 = time()\n",
    "\n",
    "sc_peakvelocity = masked_cube.argmax_world(axis=0)\n",
    "\n",
    "t1 = time()\n",
    "\n",
    "\n",
    "time_sc_peakvel = t1 - t0\n",
    "\n",
    "print(f\"SC cube peak velocity time: {time_sc_peakvel} s\")"
   ]
  },
  {
   "cell_type": "code",
   "execution_count": null,
   "metadata": {},
   "outputs": [],
   "source": [
    "plt.figure(figsize=(18, 6))\n",
    "\n",
    "plt.subplot(1, 3, 1)\n",
    "plt.title(\"CASA peak velocity\", fontsize=14)\n",
    "plt.imshow(casa_peakvelocity, origin='lower')\n",
    "plt.colorbar()\n",
    "plt.subplot(1, 3, 2)\n",
    "plt.title(\"spectral-cube peak velocity\", fontsize=14)\n",
    "plt.imshow(sc_peakvelocity.value, origin='lower')\n",
    "plt.colorbar()\n",
    "plt.subplot(1, 3, 3)\n",
    "plt.title(\"CASA - spectral-cube\\ndifference\", fontsize=14)\n",
    "plt.imshow(casa_peakvelocity - sc_peakvelocity.value, origin='lower', cmap='bwr')\n",
    "plt.colorbar()\n"
   ]
  },
  {
   "source": [
    "## Fitting ##\n",
    "\n",
    "Spectral and spatial fits are common operations on spectral-cubes. In the [spectral-cube fitting tutorial](https://mybinder.org/v2/gh/radio-astro-tools/tutorials/master?filepath=spectral_fitting%2Ffitting_with_spectralcube.ipynb) we demonstrate how to use [astropy.modeling](https://docs.astropy.org/en/stable/modeling/) with spectral-cube. We will use the models described in that tutorial here to compare with the CASA tasks for fitting.\n",
    "\n",
    "### Spectral fitting ###\n",
    "\n",
    "To demonstrate fitting in both spectral-cube and CASA, we will fit a single spectrum with a high signal-to-noise to a Gaussian model.\n"
   ],
   "cell_type": "markdown",
   "metadata": {}
  },
  {
   "cell_type": "code",
   "execution_count": null,
   "metadata": {},
   "outputs": [],
   "source": [
    "y, x = 32, 32\n",
    "\n",
    "plt.figure(figsize=(6, 6))\n",
    "\n",
    "spec = cube[:, y, x]\n",
    "spec.quicklook()"
   ]
  },
  {
   "source": [
    "Spectral fitting in CASA uses the [`specfit` task](https://casa.nrao.edu/casadocs/casa-6.1.0/global-task-list/task_specfit/about)."
   ],
   "cell_type": "markdown",
   "metadata": {}
  },
  {
   "cell_type": "code",
   "execution_count": null,
   "metadata": {
    "tags": []
   },
   "outputs": [],
   "source": [
    "t0 = time()\n",
    "\n",
    "specfit_casa = specfit(imagename=filename, ngauss=1,\n",
    "                       box=f'{x},{y},{x},{y}',\n",
    "                       wantreturn=True)\n",
    "\n",
    "t1 = time()\n",
    "\n",
    "print(f\"CASA specfit time: {t1 - t0} s\")\n",
    "\n",
    "\n",
    "# Note that FWHM needs to be converted to \"sigma\" (FWHM = sqrt(8 ln 2) sigma).\n",
    "FWHM2SIGMA = np.sqrt(8 * np.log(2))\n",
    "\n",
    "# Produce an astropy model with the fitted parameters\n",
    "# The \"squeeze\" operations are to reduce the CASA fit output to a 1D array\n",
    "g_casafit = models.Gaussian1D(amplitude=specfit_casa['gs']['amp'].squeeze() * u.K,\n",
    "                              mean=specfit_casa['gs']['center'].squeeze() * u.km / u.s,\n",
    "                              stddev=specfit_casa['gs']['fwhm'].squeeze() / FWHM2SIGMA * u.km / u.s)\n",
    "print(g_casafit)\n"
   ]
  },
  {
   "source": [
    "`specfit` has many additional parameters and settings, including fitting multiple spectra, which are not shown for this example.\n",
    "\n",
    "The equivalent fitting with spectral-cube and astropy is:"
   ],
   "cell_type": "markdown",
   "metadata": {}
  },
  {
   "cell_type": "code",
   "execution_count": null,
   "metadata": {
    "tags": []
   },
   "outputs": [],
   "source": [
    "t0 = time()\n",
    "\n",
    "# The 1D Gaussian model with initial guesses for parameters\n",
    "g_init = models.Gaussian1D(amplitude=1.0 * u.K, mean=-210 * u.km / u.s, stddev=4. * u.km / u.s)\n",
    "\n",
    "# And fit with the Levenberg-Marquardt algorithm and least squares statistic.\n",
    "fit_g = fitting.LevMarLSQFitter()\n",
    "\n",
    "# The initial model, spectral axis (in km/s) and spectrum are passed for the fit\n",
    "g_fit = fit_g(g_init, spec.spectral_axis, spec)\n",
    "\n",
    "t1 = time()\n",
    "\n",
    "print(f\"SC/astropy spectral fit time: {t1 - t0} s\")\n",
    "\n",
    "print(g_fit)"
   ]
  },
  {
   "cell_type": "code",
   "execution_count": null,
   "metadata": {},
   "outputs": [],
   "source": [
    "plt.figure(figsize=(12, 6))\n",
    "\n",
    "ax0 = plt.subplot(1, 2, 1)\n",
    "\n",
    "spec.quicklook()\n",
    "\n",
    "plt.plot(spec.spectral_axis, g_casafit(spec.spectral_axis), label='CASA `specfit`')\n",
    "plt.plot(spec.spectral_axis, g_fit(spec.spectral_axis), \":\",\n",
    "         label='spectral-cube + astropy', linewidth=3)\n",
    "plt.legend(frameon=True, loc='best', fontsize=12)\n",
    "\n",
    "plt.ylabel(\"Brightness temperature (K)\", fontsize=12)\n",
    "plt.xlabel(\"Velocity (km/s)\", fontsize=12)\n",
    "\n",
    "plt.xlim([-250, -175])\n",
    "# plt.ylim([])\n",
    "\n",
    "plt.subplot(1, 2, 2, sharex=ax0)\n",
    "\n",
    "plt.plot(spec.spectral_axis, g_fit(spec.spectral_axis) - g_casafit(spec.spectral_axis), label='spectral-cube/astropy - CASA model')\n",
    "# plt.plot(spec.spectral_axis, , \":\",\n",
    "#          label='spectral-cube + astropy', linewidth=3)\n",
    "plt.legend(frameon=True, loc='lower left', fontsize=12)\n",
    "\n",
    "plt.xlabel(\"Velocity (km/s)\", fontsize=12)\n"
   ]
  },
  {
   "source": [
    "The fits are essentially identical.\n",
    "\n",
    "### Spatial fitting ###\n",
    "\n",
    "Similar to the spectral fitting, we will demonstrate spatial fitting to a single source in the integrated intensity (moment 0) map with a 2D Gaussian model.\n",
    "\n",
    "In CASA, 2D Gaussians can be fit using the [`imfit` task](https://casa.nrao.edu/casadocs/casa-6.1.0/global-task-list/task_imfit/about)."
   ],
   "cell_type": "markdown",
   "metadata": {}
  },
  {
   "cell_type": "code",
   "execution_count": null,
   "metadata": {
    "tags": []
   },
   "outputs": [],
   "source": [
    "# Create a new moment0 image\n",
    "\n",
    "print(filename)\n",
    "\n",
    "outfilename = f\"{filename.split('.')[0]}.moment0.image\"\n",
    "\n",
    "# Cutout a 13 pixel box around the central source\n",
    "size = 13\n",
    "\n",
    "# Identify the spectral channels. We will only integrate over the range where\n",
    "# there is bright signal\n",
    "low_chan = cube.closest_spectral_channel(-230 * u.km / u.s)\n",
    "high_chan = cube.closest_spectral_channel(-190 * u.km / u.s)\n",
    "\n",
    "if not os.path.exists(outfilename):\n",
    "    print('Making new moment image')\n",
    "    # Slice out the same size we will use with spectral-cube\n",
    "    # See the region file formats here: https://casaguides.nrao.edu/index.php/CASA_Region_Format\n",
    "    immoments(filename, moments=0, axis='spec',\n",
    "              outfile=outfilename,\n",
    "              mask=f'\"{filename}\">0.12',  # Mask out noise\n",
    "              chans=f'{low_chan}~{high_chan}',\n",
    "              region=f'box [ [{x-size}pix,{y-size}pix] , [{x+size-1}pix, {y+size-1}pix]]', # Slice out location of source\n",
    "              )\n",
    "\n",
    "# Fit 1 2D Gaussian to the cropped moment0 image made above.\n",
    "spatfit_casa = imfit(imagename=outfilename)\n",
    "\n",
    "# Note that FWHM needs to be converted to \"sigma\" (FWHM = sqrt(8 ln 2) sigma).\n",
    "FWHM2SIGMA = np.sqrt(8 * np.log(2))\n",
    "\n",
    "# Make a grid of spatial grids in terms of the pixel shape. We're going to leave out the units for now.\n",
    "yy, xx = np.mgrid[:2 * size, :2 * size]\n",
    "\n",
    "t0 = time()\n",
    "\n",
    "# There is some discrepancy in units in the format that CASA returns.\n",
    "# For this example, we will only use the peak amplitude unit K (though CASA returns this as Jy/pixel)\n",
    "g_casa_spatfit = models.Gaussian2D(amplitude=spatfit_casa['results']['component0']['peak']['value'] * u.K * u.km / u.s,\n",
    "                                   x_mean=spatfit_casa['results']['component0']['pixelcoords'][0],\n",
    "                                   y_mean=spatfit_casa['results']['component0']['pixelcoords'][1],\n",
    "                                   y_stddev=spatfit_casa['results']['component0']['shape']['majoraxis']['value'] / FWHM2SIGMA,\n",
    "                                   x_stddev=spatfit_casa['results']['component0']['shape']['minoraxis']['value'] / FWHM2SIGMA,\n",
    "                                   theta=spatfit_casa['results']['component0']['shape']['positionangle']['value'] * u.deg)\n",
    "\n",
    "t1 = time()\n",
    "\n",
    "print(f\"CASA imfit time: {t1 - t0} s\")\n",
    "\n",
    "\n",
    "print(\"CASA 2D Gaussian fit:\")\n",
    "print(g_casa_spatfit)\n"
   ]
  },
  {
   "source": [
    "We have used a few conversions to match the `models.Gaussian2D` expected inputs. Notably, CASA outputs the FWHM of the 2D Gaussian, so we have converted those to the equivalent Gaussian standard deviation.\n",
    "\n",
    "It is also important to note that we have *not* used the output units given by CASA as (1) it is easiest to use the pixel coordinates for the `x_mean` and `y_mean` from the full CASA output, and (2) there is some discrepancy in the units returned by CASA, as the peak amplitude is labeled as \"Jy/pix\" but is in the original moment 0 units of (K km/s).\n",
    "\n",
    "To view the full `imfit` output, uncomment the line below:"
   ],
   "cell_type": "markdown",
   "metadata": {}
  },
  {
   "cell_type": "code",
   "execution_count": null,
   "metadata": {},
   "outputs": [],
   "source": [
    "# spatfit_casa['results']['component0']"
   ]
  },
  {
   "cell_type": "code",
   "execution_count": null,
   "metadata": {
    "tags": []
   },
   "outputs": [],
   "source": [
    "# Make equivalently masked moment 0 value.\n",
    "\n",
    "# Mask noisy values below 0.12 K\n",
    "masked_cube = cube.with_mask(cube > 0.12 * u.K)\n",
    "\n",
    "# Only integrate over channels with signal\n",
    "masked_cube_slab = masked_cube.spectral_slab(-230 * u.km / u.s, -190 * u.km / u.s)\n",
    "\n",
    "moment0 = masked_cube_slab.moment0()\n",
    "\n",
    "# Cutout region with the source of interest\n",
    "size = 13\n",
    "\n",
    "moment0_cutout = moment0[y-size:y+size, x-size:x+size]\n",
    "\n",
    "# Make a grid of spatial grids in terms of the pixel shape. We're going to leave out the units for now.\n",
    "yy, xx = np.mgrid[:2 * size, :2 * size]\n",
    "\n",
    "t0 = time()\n",
    "\n",
    "# Define a single 2D Gaussian model.\n",
    "p_init_gauss2D = models.Gaussian2D(x_mean=xx[size, size], y_mean=yy[size, size],\n",
    "                                   amplitude=12 * u.K * u.km / u.s,\n",
    "                                   x_stddev=8, y_stddev=8)\n",
    "\n",
    "\n",
    "# And fit with the Levenberg-Marquardt algorithm and least squares statistic.\n",
    "fit_p = fitting.LevMarLSQFitter()\n",
    "\n",
    "# Set NaNs to 0 for the fit.\n",
    "moment0_cutout_quant = moment0_cutout.quantity\n",
    "moment0_cutout_quant[np.isnan(moment0_cutout_quant)] = 0.\n",
    "\n",
    "# Set the weights of the NaN positions to 0. so they are not used in the fit.\n",
    "# All non-zero pixels have equal weights of 1\n",
    "weights = np.isfinite(moment0_cutout)\n",
    "\n",
    "with warnings.catch_warnings():\n",
    "    # Ignore model linearity warning from the fitter\n",
    "    warnings.simplefilter('ignore')\n",
    "    p_gauss2D = fit_p(p_init_gauss2D, xx, yy, moment0_cutout_quant, weights=weights)\n",
    "\n",
    "t1 = time()\n",
    "\n",
    "print(f\"spectral-cube/astropy 2D Gaussian fit time: {t1 - t0} s\")\n",
    "\n",
    "\n",
    "print('spectral-cube/astropy 2D Gaussian fit:')\n",
    "print(p_gauss2D)\n"
   ]
  },
  {
   "source": [
    "While the CASA output converts into angular sizes using the WCS information, the astropy fit is fit using the pixel grid. Because of this, we add one additional step to convert the pixel size to angular units.\n",
    "\n",
    "*Note that the tutorial dataset has 1 pixel = $1^{''}$ so the `x_stddev` and `y_stddev` will not appear to change. In general, this will not be the case.*\n",
    "\n",
    "Below we show the general conversion from pixel to angular sizes.\n",
    "\n",
    "Note that `y_stddev` and `x_stddev` are the semi-major and semi-minor axes of the 2D Gaussian, **not** the size along the y and x axes in the image.\n",
    "\n",
    "For `y_stddev`, we compute the the sizes along the `y` and `x` pixel axes:\n",
    "$$ {\\rm y\\_stddev}_y = ({\\rm y\\_stddev}) \\ {\\rm sin} \\left( \\theta \\right) $$\n",
    "$$ {\\rm y\\_stddev}_x = ({\\rm y\\_stddev}) \\ {\\rm cos} \\left( \\theta \\right) $$\n",
    "The pixel scales in the y and x directions are $\\Delta_y$ and $\\Delta_x$, so along the angular size along the pixel grid is:\n",
    "$$ {\\rm y\\_stddev}^{\\rm ang}_y =  {\\rm y\\_stddev}_y \\ \\Delta_y,$$\n",
    "and similar for $x$ using $\\Delta_x$. **Normally, $\\Delta_y=\\Delta_x$ but we show the general case here as an example.**\n",
    "\n",
    "Combining the x and y pixel scales gives `y_stddev` in angular units:\n",
    "$$ {\\rm y\\_stddev}^{\\rm ang} = {\\rm y\\_stddev} \\ \\left( \\Delta_y^2 \\ {\\rm sin}^2 \\theta + \\Delta_x^2 {\\rm cos}^2 \\theta \\right)^{1/2}. $$\n",
    "\n",
    "The conversion for ${\\rm x\\_stddev}^{\\rm ang}$ is the same with the trig operations switched in the equations (since there is a $90^{\\circ}$ offset in `theta` for the other ellipse axis):\n",
    "$$ {\\rm x\\_stddev}^{\\rm ang} = {\\rm x\\_stddev} \\ \\left( \\Delta_y^2 \\ {\\rm cos}^2 \\theta + \\Delta_x^2 {\\rm sin}^2 \\theta \\right)^{1/2}. $$\n"
   ],
   "cell_type": "markdown",
   "metadata": {}
  },
  {
   "cell_type": "code",
   "execution_count": null,
   "metadata": {},
   "outputs": [],
   "source": [
    "# Use the WCS utility function to get the pixel scale in each spatial pixel axis\n",
    "from astropy.wcs.utils import proj_plane_pixel_scales\n",
    "\n",
    "# This returns the units in deg, which is the WCS standard\n",
    "x_pixtoang, y_pixtoang = proj_plane_pixel_scales(moment0_cutout.wcs.celestial) * u.deg\n",
    "\n",
    "# Convert to the pixel scale to arcsec\n",
    "y_pixtoang = y_pixtoang.to(u.arcsec)\n",
    "x_pixtoang = x_pixtoang.to(u.arcsec)\n",
    "\n",
    "print(f\"Spatial pixel scales: {y_pixtoang}, {x_pixtoang}\")\n",
    "\n",
    "y_stddev_ang = p_gauss2D.y_stddev * np.sqrt(y_pixtoang**2 * np.sin(p_gauss2D.theta)**2 + x_pixtoang**2 * np.cos(p_gauss2D.theta)**2)\n",
    "x_stddev_ang = p_gauss2D.x_stddev * np.sqrt(y_pixtoang**2 * np.cos(p_gauss2D.theta)**2 + x_pixtoang**2 * np.sin(p_gauss2D.theta)**2)\n",
    "\n",
    "print(f\"The astropy 2D Gaussian fit size is: {p_gauss2D.y_stddev.quantity:.3f} pix, {p_gauss2D.x_stddev.quantity:.3f} pix\")\n",
    "print(f\"The astropy 2D Gaussian fit size in angular units is: {y_stddev_ang:.3f}, {x_stddev_ang:.3f}\")\n"
   ]
  },
  {
   "source": [
    "As promised for this example, the pixel and angular sizes are the same because 1 pix = 1 arcsec.\n"
   ],
   "cell_type": "markdown",
   "metadata": {}
  },
  {
   "source": [
    "To compare the two fits, we plot the data from `moment0_cutout`, the models, and their residuals:"
   ],
   "cell_type": "markdown",
   "metadata": {}
  },
  {
   "cell_type": "code",
   "execution_count": null,
   "metadata": {},
   "outputs": [],
   "source": [
    "plt.figure(figsize=(18, 12))\n",
    "\n",
    "plt.subplot(2, 3, 1)\n",
    "plt.title(\"Image\", fontsize=18)\n",
    "plt.imshow(moment0_cutout.value, origin='lower', cmap='inferno')\n",
    "plt.colorbar()\n",
    "\n",
    "# Model maps\n",
    "plt.subplot(2, 3, 2)\n",
    "plt.title(\"SC/Astropy Model\", fontsize=18)\n",
    "plt.imshow(p_gauss2D(xx, yy).value, origin='lower', cmap='inferno')\n",
    "plt.colorbar()\n",
    "plt.subplot(2, 3, 3)\n",
    "plt.title(\"CASA Model\", fontsize=18)\n",
    "plt.imshow(g_casa_spatfit(xx, yy).value, origin='lower', cmap='inferno')\n",
    "plt.colorbar()\n",
    "\n",
    "# Model to model comparison\n",
    "plt.subplot(2, 3, 4)\n",
    "plt.title(\"SC/Astropy - CASA Models \", fontsize=18)\n",
    "plt.imshow(p_gauss2D(xx, yy).value - g_casa_spatfit(xx, yy).value, origin='lower', cmap='bwr')\n",
    "plt.colorbar()\n",
    "\n",
    "# Residual maps\n",
    "plt.subplot(2, 3, 5)\n",
    "plt.title(\"SC/Astropy Residual\", fontsize=18)\n",
    "plt.imshow(moment0_cutout.value - p_gauss2D(xx, yy).value, origin='lower', cmap='inferno')\n",
    "plt.colorbar()\n",
    "plt.subplot(2, 3, 6)\n",
    "plt.title(\"CASA Residual\", fontsize=18)\n",
    "plt.imshow(moment0_cutout.value - g_casa_spatfit(xx, yy).value, origin='lower', cmap='inferno')\n",
    "plt.colorbar()\n",
    "\n",
    "plt.tight_layout()"
   ]
  },
  {
   "source": [
    "The spectral-cube/astropy and CASA model results agree well. There are minor differences in the models, which can be seen in the difference of the model solutions in the left lower panel. However, these differences are small, just $0.25\\%$ relative to the peak in the integrated intensity map.\n",
    "\n",
    "This agreement is also clear from the model parameters:"
   ],
   "cell_type": "markdown",
   "metadata": {}
  },
  {
   "cell_type": "code",
   "execution_count": null,
   "metadata": {
    "tags": []
   },
   "outputs": [],
   "source": [
    "print(f\"Amplitude: spectral-cube: {p_gauss2D.amplitude.quantity}, CASA: {g_casa_spatfit.amplitude.quantity}\")\n",
    "print(f\"Major stddev: spectral-cube: {y_stddev_ang.to(u.arcsec).value}, CASA: {g_casa_spatfit.y_stddev.value}\")\n",
    "print(f\"Minor stddev: spectral-cube: {x_stddev_ang.to(u.arcsec).value}, CASA: {g_casa_spatfit.x_stddev.value}\")\n",
    "print(f\"Position angle: spectral-cube: {p_gauss2D.theta.quantity.to(u.deg)}, CASA: {g_casa_spatfit.theta.quantity.to(u.deg)}\")"
   ]
  },
  {
   "source": [
    "However, the evaluated models are essentially equivalent, as expected."
   ],
   "cell_type": "markdown",
   "metadata": {}
  },
  {
   "cell_type": "markdown",
   "metadata": {},
   "source": [
    "## Summary ##\n",
    "\n",
    "This tutorial has covered how to make common moment maps in both CASA and spectral-cube. For operations on the small cube we used for this tutorial, both packages have similar performance.\n",
    "\n",
    "When handling larger cubes, both CASA and spectral-cube will become limited by I/O (input/output) operations. When using spectral-cube, we recommend enabling dask operations to allow loading data in chunks with parallel processing. See the [documentation page](https://spectral-cube.readthedocs.io/en/latest/dask.html) on using dask in spectral-cube."
   ]
  },
  {
   "cell_type": "code",
   "execution_count": null,
   "metadata": {},
   "outputs": [],
   "source": []
  }
 ]
}