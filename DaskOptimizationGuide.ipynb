{
 "cells": [
  {
   "cell_type": "markdown",
   "id": "599a6685-687c-4984-8fa6-acc363d80e7c",
   "metadata": {},
   "source": [
    "# Guide to dask chunking in Spectral-Cube"
   ]
  },
  {
   "cell_type": "markdown",
   "id": "577b4484-90b7-4882-9108-18c9673f3aa6",
   "metadata": {},
   "source": [
    "Dask is a data processing framework integrated into spectral-cube that enables parallel processing of larger-than-memory cubes."
   ]
  },
  {
   "cell_type": "code",
   "execution_count": 1,
   "id": "015d2f43-99aa-4d3b-abb3-ff713be64fdb",
   "metadata": {},
   "outputs": [],
   "source": [
    "import numpy as np\n",
    "from astropy.utils.data import download_file\n",
    "from spectral_cube import SpectralCube"
   ]
  },
  {
   "cell_type": "markdown",
   "id": "4020b148-23d6-4028-8e1e-91ef6854b3c5",
   "metadata": {},
   "source": [
    "We download a cube from the MAPS survey:"
   ]
  },
  {
   "cell_type": "code",
   "execution_count": 2,
   "id": "14f971b2-588a-4025-bdf6-5dd001d34742",
   "metadata": {},
   "outputs": [],
   "source": [
    "filename = download_file('ftp://ftp.cv.nrao.edu/NRAO-staff/rloomis/MAPS/HD_163296/images/CO/0.15arcsec/HD_163296_CO_220GHz.0.15arcsec.JvMcorr.image.pbcor.fits', cache=True)"
   ]
  },
  {
   "cell_type": "markdown",
   "id": "06788b3c-2af5-4859-ac0b-11320b340d4a",
   "metadata": {},
   "source": [
    "We load the cube using the `dask` backend, which allows for some parallelization:"
   ]
  },
  {
   "cell_type": "code",
   "execution_count": 3,
   "id": "a82107ea-c0f2-4b23-a8ae-d8b140f11205",
   "metadata": {},
   "outputs": [],
   "source": [
    "cube = SpectralCube.read(filename, use_dask=True)"
   ]
  },
  {
   "cell_type": "code",
   "execution_count": 4,
   "id": "d692a951-f3a5-41cf-8484-638003ededac",
   "metadata": {},
   "outputs": [
    {
     "data": {
      "text/plain": [
       "DaskSpectralCube with shape=(127, 2048, 2048) and unit=Jy / beam and chunk size (127, 512, 512):\n",
       " n_x:   2048  type_x: RA---SIN  unit_x: deg    range:   269.082528 deg:  269.094790 deg\n",
       " n_y:   2048  type_y: DEC--SIN  unit_y: deg    range:   -21.961977 deg:  -21.950605 deg\n",
       " n_s:    127  type_s: FREQ      unit_s: Hz     range: 230523958206.200 Hz:230543336804.442 Hz"
      ]
     },
     "execution_count": 4,
     "metadata": {},
     "output_type": "execute_result"
    }
   ],
   "source": [
    "cube"
   ]
  },
  {
   "cell_type": "markdown",
   "id": "3a34ee0f-b007-41ab-b6cb-a9b839e6ec85",
   "metadata": {},
   "source": [
    "# Dask Chunking"
   ]
  },
  {
   "cell_type": "code",
   "execution_count": 5,
   "id": "1a8c7cb0-cf99-4e1c-beb9-6804eb39e385",
   "metadata": {},
   "outputs": [
    {
     "data": {
      "text/html": [
       "<table>\n",
       "<tr>\n",
       "<td>\n",
       "<table>\n",
       "  <thead>\n",
       "    <tr><td> </td><th> Array </th><th> Chunk </th></tr>\n",
       "  </thead>\n",
       "  <tbody>\n",
       "    <tr><th> Bytes </th><td> 1.98 GiB </td> <td> 127.00 MiB </td></tr>\n",
       "    <tr><th> Shape </th><td> (127, 2048, 2048) </td> <td> (127, 512, 512) </td></tr>\n",
       "    <tr><th> Count </th><td> 16 Tasks </td><td> 16 Chunks </td></tr>\n",
       "    <tr><th> Type </th><td> >f4 </td><td> numpy.ndarray </td></tr>\n",
       "  </tbody>\n",
       "</table>\n",
       "</td>\n",
       "<td>\n",
       "<svg width=\"201\" height=\"191\" style=\"stroke:rgb(0,0,0);stroke-width:1\" >\n",
       "\n",
       "  <!-- Horizontal lines -->\n",
       "  <line x1=\"10\" y1=\"0\" x2=\"31\" y2=\"21\" style=\"stroke-width:2\" />\n",
       "  <line x1=\"10\" y1=\"30\" x2=\"31\" y2=\"51\" />\n",
       "  <line x1=\"10\" y1=\"60\" x2=\"31\" y2=\"81\" />\n",
       "  <line x1=\"10\" y1=\"90\" x2=\"31\" y2=\"111\" />\n",
       "  <line x1=\"10\" y1=\"120\" x2=\"31\" y2=\"141\" style=\"stroke-width:2\" />\n",
       "\n",
       "  <!-- Vertical lines -->\n",
       "  <line x1=\"10\" y1=\"0\" x2=\"10\" y2=\"120\" style=\"stroke-width:2\" />\n",
       "  <line x1=\"31\" y1=\"21\" x2=\"31\" y2=\"141\" style=\"stroke-width:2\" />\n",
       "\n",
       "  <!-- Colored Rectangle -->\n",
       "  <polygon points=\"10.0,0.0 31.065987488665783,21.065987488665783 31.065987488665783,141.06598748866577 10.0,120.0\" style=\"fill:#ECB172A0;stroke-width:0\"/>\n",
       "\n",
       "  <!-- Horizontal lines -->\n",
       "  <line x1=\"10\" y1=\"0\" x2=\"130\" y2=\"0\" style=\"stroke-width:2\" />\n",
       "  <line x1=\"31\" y1=\"21\" x2=\"151\" y2=\"21\" style=\"stroke-width:2\" />\n",
       "\n",
       "  <!-- Vertical lines -->\n",
       "  <line x1=\"10\" y1=\"0\" x2=\"31\" y2=\"21\" style=\"stroke-width:2\" />\n",
       "  <line x1=\"40\" y1=\"0\" x2=\"61\" y2=\"21\" />\n",
       "  <line x1=\"70\" y1=\"0\" x2=\"91\" y2=\"21\" />\n",
       "  <line x1=\"100\" y1=\"0\" x2=\"121\" y2=\"21\" />\n",
       "  <line x1=\"130\" y1=\"0\" x2=\"151\" y2=\"21\" style=\"stroke-width:2\" />\n",
       "\n",
       "  <!-- Colored Rectangle -->\n",
       "  <polygon points=\"10.0,0.0 130.0,0.0 151.06598748866577,21.065987488665783 31.065987488665783,21.065987488665783\" style=\"fill:#ECB172A0;stroke-width:0\"/>\n",
       "\n",
       "  <!-- Horizontal lines -->\n",
       "  <line x1=\"31\" y1=\"21\" x2=\"151\" y2=\"21\" style=\"stroke-width:2\" />\n",
       "  <line x1=\"31\" y1=\"51\" x2=\"151\" y2=\"51\" />\n",
       "  <line x1=\"31\" y1=\"81\" x2=\"151\" y2=\"81\" />\n",
       "  <line x1=\"31\" y1=\"111\" x2=\"151\" y2=\"111\" />\n",
       "  <line x1=\"31\" y1=\"141\" x2=\"151\" y2=\"141\" style=\"stroke-width:2\" />\n",
       "\n",
       "  <!-- Vertical lines -->\n",
       "  <line x1=\"31\" y1=\"21\" x2=\"31\" y2=\"141\" style=\"stroke-width:2\" />\n",
       "  <line x1=\"61\" y1=\"21\" x2=\"61\" y2=\"141\" />\n",
       "  <line x1=\"91\" y1=\"21\" x2=\"91\" y2=\"141\" />\n",
       "  <line x1=\"121\" y1=\"21\" x2=\"121\" y2=\"141\" />\n",
       "  <line x1=\"151\" y1=\"21\" x2=\"151\" y2=\"141\" style=\"stroke-width:2\" />\n",
       "\n",
       "  <!-- Colored Rectangle -->\n",
       "  <polygon points=\"31.065987488665783,21.065987488665783 151.06598748866577,21.065987488665783 151.06598748866577,141.06598748866577 31.065987488665783,141.06598748866577\" style=\"fill:#ECB172A0;stroke-width:0\"/>\n",
       "\n",
       "  <!-- Text -->\n",
       "  <text x=\"91.065987\" y=\"161.065987\" font-size=\"1.0rem\" font-weight=\"100\" text-anchor=\"middle\" >2048</text>\n",
       "  <text x=\"171.065987\" y=\"81.065987\" font-size=\"1.0rem\" font-weight=\"100\" text-anchor=\"middle\" transform=\"rotate(-90,171.065987,81.065987)\">2048</text>\n",
       "  <text x=\"10.532994\" y=\"150.532994\" font-size=\"1.0rem\" font-weight=\"100\" text-anchor=\"middle\" transform=\"rotate(45,10.532994,150.532994)\">127</text>\n",
       "</svg>\n",
       "</td>\n",
       "</tr>\n",
       "</table>"
      ],
      "text/plain": [
       "dask.array<e23db90f-56a6-4b46-9439, shape=(127, 2048, 2048), dtype=>f4, chunksize=(127, 512, 512), chunktype=numpy.ndarray>"
      ]
     },
     "execution_count": 5,
     "metadata": {},
     "output_type": "execute_result"
    }
   ],
   "source": [
    "# Don't use _data, it will cause problems!  This is _purely_ for visualization purposes\n",
    "cube._data"
   ]
  },
  {
   "cell_type": "markdown",
   "id": "708cc844-79de-43c6-afed-e5aca6e42a5a",
   "metadata": {},
   "source": [
    "Dask data can be 'chunked' to optimize oeprations along different directions.  \n",
    "\n",
    "For example, this first 'rechunk' will load full spectra into memory, but will break the cube into sub-cubes:"
   ]
  },
  {
   "cell_type": "code",
   "execution_count": 6,
   "id": "9f796472-9991-46ac-be00-bbc05e1eb37f",
   "metadata": {},
   "outputs": [
    {
     "data": {
      "text/html": [
       "<table>\n",
       "<tr>\n",
       "<td>\n",
       "<table>\n",
       "  <thead>\n",
       "    <tr><td> </td><th> Array </th><th> Chunk </th></tr>\n",
       "  </thead>\n",
       "  <tbody>\n",
       "    <tr><th> Bytes </th><td> 1.98 GiB </td> <td> 127.00 MiB </td></tr>\n",
       "    <tr><th> Shape </th><td> (127, 2048, 2048) </td> <td> (127, 512, 512) </td></tr>\n",
       "    <tr><th> Count </th><td> 16 Tasks </td><td> 16 Chunks </td></tr>\n",
       "    <tr><th> Type </th><td> >f4 </td><td> numpy.ndarray </td></tr>\n",
       "  </tbody>\n",
       "</table>\n",
       "</td>\n",
       "<td>\n",
       "<svg width=\"201\" height=\"191\" style=\"stroke:rgb(0,0,0);stroke-width:1\" >\n",
       "\n",
       "  <!-- Horizontal lines -->\n",
       "  <line x1=\"10\" y1=\"0\" x2=\"31\" y2=\"21\" style=\"stroke-width:2\" />\n",
       "  <line x1=\"10\" y1=\"30\" x2=\"31\" y2=\"51\" />\n",
       "  <line x1=\"10\" y1=\"60\" x2=\"31\" y2=\"81\" />\n",
       "  <line x1=\"10\" y1=\"90\" x2=\"31\" y2=\"111\" />\n",
       "  <line x1=\"10\" y1=\"120\" x2=\"31\" y2=\"141\" style=\"stroke-width:2\" />\n",
       "\n",
       "  <!-- Vertical lines -->\n",
       "  <line x1=\"10\" y1=\"0\" x2=\"10\" y2=\"120\" style=\"stroke-width:2\" />\n",
       "  <line x1=\"31\" y1=\"21\" x2=\"31\" y2=\"141\" style=\"stroke-width:2\" />\n",
       "\n",
       "  <!-- Colored Rectangle -->\n",
       "  <polygon points=\"10.0,0.0 31.065987488665783,21.065987488665783 31.065987488665783,141.06598748866577 10.0,120.0\" style=\"fill:#ECB172A0;stroke-width:0\"/>\n",
       "\n",
       "  <!-- Horizontal lines -->\n",
       "  <line x1=\"10\" y1=\"0\" x2=\"130\" y2=\"0\" style=\"stroke-width:2\" />\n",
       "  <line x1=\"31\" y1=\"21\" x2=\"151\" y2=\"21\" style=\"stroke-width:2\" />\n",
       "\n",
       "  <!-- Vertical lines -->\n",
       "  <line x1=\"10\" y1=\"0\" x2=\"31\" y2=\"21\" style=\"stroke-width:2\" />\n",
       "  <line x1=\"40\" y1=\"0\" x2=\"61\" y2=\"21\" />\n",
       "  <line x1=\"70\" y1=\"0\" x2=\"91\" y2=\"21\" />\n",
       "  <line x1=\"100\" y1=\"0\" x2=\"121\" y2=\"21\" />\n",
       "  <line x1=\"130\" y1=\"0\" x2=\"151\" y2=\"21\" style=\"stroke-width:2\" />\n",
       "\n",
       "  <!-- Colored Rectangle -->\n",
       "  <polygon points=\"10.0,0.0 130.0,0.0 151.06598748866577,21.065987488665783 31.065987488665783,21.065987488665783\" style=\"fill:#ECB172A0;stroke-width:0\"/>\n",
       "\n",
       "  <!-- Horizontal lines -->\n",
       "  <line x1=\"31\" y1=\"21\" x2=\"151\" y2=\"21\" style=\"stroke-width:2\" />\n",
       "  <line x1=\"31\" y1=\"51\" x2=\"151\" y2=\"51\" />\n",
       "  <line x1=\"31\" y1=\"81\" x2=\"151\" y2=\"81\" />\n",
       "  <line x1=\"31\" y1=\"111\" x2=\"151\" y2=\"111\" />\n",
       "  <line x1=\"31\" y1=\"141\" x2=\"151\" y2=\"141\" style=\"stroke-width:2\" />\n",
       "\n",
       "  <!-- Vertical lines -->\n",
       "  <line x1=\"31\" y1=\"21\" x2=\"31\" y2=\"141\" style=\"stroke-width:2\" />\n",
       "  <line x1=\"61\" y1=\"21\" x2=\"61\" y2=\"141\" />\n",
       "  <line x1=\"91\" y1=\"21\" x2=\"91\" y2=\"141\" />\n",
       "  <line x1=\"121\" y1=\"21\" x2=\"121\" y2=\"141\" />\n",
       "  <line x1=\"151\" y1=\"21\" x2=\"151\" y2=\"141\" style=\"stroke-width:2\" />\n",
       "\n",
       "  <!-- Colored Rectangle -->\n",
       "  <polygon points=\"31.065987488665783,21.065987488665783 151.06598748866577,21.065987488665783 151.06598748866577,141.06598748866577 31.065987488665783,141.06598748866577\" style=\"fill:#ECB172A0;stroke-width:0\"/>\n",
       "\n",
       "  <!-- Text -->\n",
       "  <text x=\"91.065987\" y=\"161.065987\" font-size=\"1.0rem\" font-weight=\"100\" text-anchor=\"middle\" >2048</text>\n",
       "  <text x=\"171.065987\" y=\"81.065987\" font-size=\"1.0rem\" font-weight=\"100\" text-anchor=\"middle\" transform=\"rotate(-90,171.065987,81.065987)\">2048</text>\n",
       "  <text x=\"10.532994\" y=\"150.532994\" font-size=\"1.0rem\" font-weight=\"100\" text-anchor=\"middle\" transform=\"rotate(45,10.532994,150.532994)\">127</text>\n",
       "</svg>\n",
       "</td>\n",
       "</tr>\n",
       "</table>"
      ],
      "text/plain": [
       "dask.array<e23db90f-56a6-4b46-9439, shape=(127, 2048, 2048), dtype=>f4, chunksize=(127, 512, 512), chunktype=numpy.ndarray>"
      ]
     },
     "execution_count": 6,
     "metadata": {},
     "output_type": "execute_result"
    }
   ],
   "source": [
    "rechunked_cube_spectrally = cube.rechunk((-1,'auto','auto'))\n",
    "rechunked_cube_spectrally._data"
   ]
  },
  {
   "cell_type": "markdown",
   "id": "42700676-11a7-41a7-9e89-ed439bf468f0",
   "metadata": {},
   "source": [
    "While this chunking will grab sub-cubes of size 8 in the spectral direction, but the full image in the spatial directions:"
   ]
  },
  {
   "cell_type": "code",
   "execution_count": 7,
   "id": "3a9892d3-2ffb-43aa-ad20-1e3718d51b2e",
   "metadata": {},
   "outputs": [
    {
     "data": {
      "text/html": [
       "<table>\n",
       "<tr>\n",
       "<td>\n",
       "<table>\n",
       "  <thead>\n",
       "    <tr><td> </td><th> Array </th><th> Chunk </th></tr>\n",
       "  </thead>\n",
       "  <tbody>\n",
       "    <tr><th> Bytes </th><td> 1.98 GiB </td> <td> 128.00 MiB </td></tr>\n",
       "    <tr><th> Shape </th><td> (127, 2048, 2048) </td> <td> (8, 2048, 2048) </td></tr>\n",
       "    <tr><th> Count </th><td> 176 Tasks </td><td> 16 Chunks </td></tr>\n",
       "    <tr><th> Type </th><td> >f4 </td><td> numpy.ndarray </td></tr>\n",
       "  </tbody>\n",
       "</table>\n",
       "</td>\n",
       "<td>\n",
       "<svg width=\"201\" height=\"191\" style=\"stroke:rgb(0,0,0);stroke-width:1\" >\n",
       "\n",
       "  <!-- Horizontal lines -->\n",
       "  <line x1=\"10\" y1=\"0\" x2=\"31\" y2=\"21\" style=\"stroke-width:2\" />\n",
       "  <line x1=\"10\" y1=\"120\" x2=\"31\" y2=\"141\" style=\"stroke-width:2\" />\n",
       "\n",
       "  <!-- Vertical lines -->\n",
       "  <line x1=\"10\" y1=\"0\" x2=\"10\" y2=\"120\" style=\"stroke-width:2\" />\n",
       "  <line x1=\"11\" y1=\"1\" x2=\"11\" y2=\"121\" />\n",
       "  <line x1=\"12\" y1=\"2\" x2=\"12\" y2=\"122\" />\n",
       "  <line x1=\"13\" y1=\"3\" x2=\"13\" y2=\"123\" />\n",
       "  <line x1=\"15\" y1=\"5\" x2=\"15\" y2=\"125\" />\n",
       "  <line x1=\"16\" y1=\"6\" x2=\"16\" y2=\"126\" />\n",
       "  <line x1=\"17\" y1=\"7\" x2=\"17\" y2=\"127\" />\n",
       "  <line x1=\"19\" y1=\"9\" x2=\"19\" y2=\"129\" />\n",
       "  <line x1=\"20\" y1=\"10\" x2=\"20\" y2=\"130\" />\n",
       "  <line x1=\"21\" y1=\"11\" x2=\"21\" y2=\"131\" />\n",
       "  <line x1=\"23\" y1=\"13\" x2=\"23\" y2=\"133\" />\n",
       "  <line x1=\"24\" y1=\"14\" x2=\"24\" y2=\"134\" />\n",
       "  <line x1=\"25\" y1=\"15\" x2=\"25\" y2=\"135\" />\n",
       "  <line x1=\"27\" y1=\"17\" x2=\"27\" y2=\"137\" />\n",
       "  <line x1=\"28\" y1=\"18\" x2=\"28\" y2=\"138\" />\n",
       "  <line x1=\"29\" y1=\"19\" x2=\"29\" y2=\"139\" />\n",
       "  <line x1=\"31\" y1=\"21\" x2=\"31\" y2=\"141\" style=\"stroke-width:2\" />\n",
       "\n",
       "  <!-- Colored Rectangle -->\n",
       "  <polygon points=\"10.0,0.0 31.065987488665783,21.065987488665783 31.065987488665783,141.06598748866577 10.0,120.0\" style=\"fill:#ECB172A0;stroke-width:0\"/>\n",
       "\n",
       "  <!-- Horizontal lines -->\n",
       "  <line x1=\"10\" y1=\"0\" x2=\"130\" y2=\"0\" style=\"stroke-width:2\" />\n",
       "  <line x1=\"11\" y1=\"1\" x2=\"131\" y2=\"1\" />\n",
       "  <line x1=\"12\" y1=\"2\" x2=\"132\" y2=\"2\" />\n",
       "  <line x1=\"13\" y1=\"3\" x2=\"133\" y2=\"3\" />\n",
       "  <line x1=\"15\" y1=\"5\" x2=\"135\" y2=\"5\" />\n",
       "  <line x1=\"16\" y1=\"6\" x2=\"136\" y2=\"6\" />\n",
       "  <line x1=\"17\" y1=\"7\" x2=\"137\" y2=\"7\" />\n",
       "  <line x1=\"19\" y1=\"9\" x2=\"139\" y2=\"9\" />\n",
       "  <line x1=\"20\" y1=\"10\" x2=\"140\" y2=\"10\" />\n",
       "  <line x1=\"21\" y1=\"11\" x2=\"141\" y2=\"11\" />\n",
       "  <line x1=\"23\" y1=\"13\" x2=\"143\" y2=\"13\" />\n",
       "  <line x1=\"24\" y1=\"14\" x2=\"144\" y2=\"14\" />\n",
       "  <line x1=\"25\" y1=\"15\" x2=\"145\" y2=\"15\" />\n",
       "  <line x1=\"27\" y1=\"17\" x2=\"147\" y2=\"17\" />\n",
       "  <line x1=\"28\" y1=\"18\" x2=\"148\" y2=\"18\" />\n",
       "  <line x1=\"29\" y1=\"19\" x2=\"149\" y2=\"19\" />\n",
       "  <line x1=\"31\" y1=\"21\" x2=\"151\" y2=\"21\" style=\"stroke-width:2\" />\n",
       "\n",
       "  <!-- Vertical lines -->\n",
       "  <line x1=\"10\" y1=\"0\" x2=\"31\" y2=\"21\" style=\"stroke-width:2\" />\n",
       "  <line x1=\"130\" y1=\"0\" x2=\"151\" y2=\"21\" style=\"stroke-width:2\" />\n",
       "\n",
       "  <!-- Colored Rectangle -->\n",
       "  <polygon points=\"10.0,0.0 130.0,0.0 151.06598748866577,21.065987488665783 31.065987488665783,21.065987488665783\" style=\"fill:#ECB172A0;stroke-width:0\"/>\n",
       "\n",
       "  <!-- Horizontal lines -->\n",
       "  <line x1=\"31\" y1=\"21\" x2=\"151\" y2=\"21\" style=\"stroke-width:2\" />\n",
       "  <line x1=\"31\" y1=\"141\" x2=\"151\" y2=\"141\" style=\"stroke-width:2\" />\n",
       "\n",
       "  <!-- Vertical lines -->\n",
       "  <line x1=\"31\" y1=\"21\" x2=\"31\" y2=\"141\" style=\"stroke-width:2\" />\n",
       "  <line x1=\"151\" y1=\"21\" x2=\"151\" y2=\"141\" style=\"stroke-width:2\" />\n",
       "\n",
       "  <!-- Colored Rectangle -->\n",
       "  <polygon points=\"31.065987488665783,21.065987488665783 151.06598748866577,21.065987488665783 151.06598748866577,141.06598748866577 31.065987488665783,141.06598748866577\" style=\"fill:#ECB172A0;stroke-width:0\"/>\n",
       "\n",
       "  <!-- Text -->\n",
       "  <text x=\"91.065987\" y=\"161.065987\" font-size=\"1.0rem\" font-weight=\"100\" text-anchor=\"middle\" >2048</text>\n",
       "  <text x=\"171.065987\" y=\"81.065987\" font-size=\"1.0rem\" font-weight=\"100\" text-anchor=\"middle\" transform=\"rotate(-90,171.065987,81.065987)\">2048</text>\n",
       "  <text x=\"10.532994\" y=\"150.532994\" font-size=\"1.0rem\" font-weight=\"100\" text-anchor=\"middle\" transform=\"rotate(45,10.532994,150.532994)\">127</text>\n",
       "</svg>\n",
       "</td>\n",
       "</tr>\n",
       "</table>"
      ],
      "text/plain": [
       "dask.array<rechunk-merge, shape=(127, 2048, 2048), dtype=>f4, chunksize=(8, 2048, 2048), chunktype=numpy.ndarray>"
      ]
     },
     "execution_count": 7,
     "metadata": {},
     "output_type": "execute_result"
    }
   ],
   "source": [
    "rechunked_cube_spatially = cube.rechunk(('auto',-1,-1))\n",
    "rechunked_cube_spatially._data"
   ]
  },
  {
   "cell_type": "markdown",
   "id": "dbc529fa-77b9-4e26-8a21-fafd3fcf78e6",
   "metadata": {},
   "source": [
    "You can also enforce individual small chunks if you want to ensure every operation fits in memory:"
   ]
  },
  {
   "cell_type": "code",
   "execution_count": 8,
   "id": "4a513e1e-3bfe-4e4c-9da1-fbc649c66024",
   "metadata": {},
   "outputs": [
    {
     "data": {
      "text/html": [
       "<table>\n",
       "<tr>\n",
       "<td>\n",
       "<table>\n",
       "  <thead>\n",
       "    <tr><td> </td><th> Array </th><th> Chunk </th></tr>\n",
       "  </thead>\n",
       "  <tbody>\n",
       "    <tr><th> Bytes </th><td> 1.98 GiB </td> <td> 25.00 MiB </td></tr>\n",
       "    <tr><th> Shape </th><td> (127, 2048, 2048) </td> <td> (25, 512, 512) </td></tr>\n",
       "    <tr><th> Count </th><td> 208 Tasks </td><td> 96 Chunks </td></tr>\n",
       "    <tr><th> Type </th><td> >f4 </td><td> numpy.ndarray </td></tr>\n",
       "  </tbody>\n",
       "</table>\n",
       "</td>\n",
       "<td>\n",
       "<svg width=\"201\" height=\"191\" style=\"stroke:rgb(0,0,0);stroke-width:1\" >\n",
       "\n",
       "  <!-- Horizontal lines -->\n",
       "  <line x1=\"10\" y1=\"0\" x2=\"31\" y2=\"21\" style=\"stroke-width:2\" />\n",
       "  <line x1=\"10\" y1=\"30\" x2=\"31\" y2=\"51\" />\n",
       "  <line x1=\"10\" y1=\"60\" x2=\"31\" y2=\"81\" />\n",
       "  <line x1=\"10\" y1=\"90\" x2=\"31\" y2=\"111\" />\n",
       "  <line x1=\"10\" y1=\"120\" x2=\"31\" y2=\"141\" style=\"stroke-width:2\" />\n",
       "\n",
       "  <!-- Vertical lines -->\n",
       "  <line x1=\"10\" y1=\"0\" x2=\"10\" y2=\"120\" style=\"stroke-width:2\" />\n",
       "  <line x1=\"14\" y1=\"4\" x2=\"14\" y2=\"124\" />\n",
       "  <line x1=\"18\" y1=\"8\" x2=\"18\" y2=\"128\" />\n",
       "  <line x1=\"22\" y1=\"12\" x2=\"22\" y2=\"132\" />\n",
       "  <line x1=\"26\" y1=\"16\" x2=\"26\" y2=\"136\" />\n",
       "  <line x1=\"30\" y1=\"20\" x2=\"30\" y2=\"140\" />\n",
       "  <line x1=\"31\" y1=\"21\" x2=\"31\" y2=\"141\" style=\"stroke-width:2\" />\n",
       "\n",
       "  <!-- Colored Rectangle -->\n",
       "  <polygon points=\"10.0,0.0 31.065987488665783,21.065987488665783 31.065987488665783,141.06598748866577 10.0,120.0\" style=\"fill:#ECB172A0;stroke-width:0\"/>\n",
       "\n",
       "  <!-- Horizontal lines -->\n",
       "  <line x1=\"10\" y1=\"0\" x2=\"130\" y2=\"0\" style=\"stroke-width:2\" />\n",
       "  <line x1=\"14\" y1=\"4\" x2=\"134\" y2=\"4\" />\n",
       "  <line x1=\"18\" y1=\"8\" x2=\"138\" y2=\"8\" />\n",
       "  <line x1=\"22\" y1=\"12\" x2=\"142\" y2=\"12\" />\n",
       "  <line x1=\"26\" y1=\"16\" x2=\"146\" y2=\"16\" />\n",
       "  <line x1=\"30\" y1=\"20\" x2=\"150\" y2=\"20\" />\n",
       "  <line x1=\"31\" y1=\"21\" x2=\"151\" y2=\"21\" style=\"stroke-width:2\" />\n",
       "\n",
       "  <!-- Vertical lines -->\n",
       "  <line x1=\"10\" y1=\"0\" x2=\"31\" y2=\"21\" style=\"stroke-width:2\" />\n",
       "  <line x1=\"40\" y1=\"0\" x2=\"61\" y2=\"21\" />\n",
       "  <line x1=\"70\" y1=\"0\" x2=\"91\" y2=\"21\" />\n",
       "  <line x1=\"100\" y1=\"0\" x2=\"121\" y2=\"21\" />\n",
       "  <line x1=\"130\" y1=\"0\" x2=\"151\" y2=\"21\" style=\"stroke-width:2\" />\n",
       "\n",
       "  <!-- Colored Rectangle -->\n",
       "  <polygon points=\"10.0,0.0 130.0,0.0 151.06598748866577,21.065987488665783 31.065987488665783,21.065987488665783\" style=\"fill:#ECB172A0;stroke-width:0\"/>\n",
       "\n",
       "  <!-- Horizontal lines -->\n",
       "  <line x1=\"31\" y1=\"21\" x2=\"151\" y2=\"21\" style=\"stroke-width:2\" />\n",
       "  <line x1=\"31\" y1=\"51\" x2=\"151\" y2=\"51\" />\n",
       "  <line x1=\"31\" y1=\"81\" x2=\"151\" y2=\"81\" />\n",
       "  <line x1=\"31\" y1=\"111\" x2=\"151\" y2=\"111\" />\n",
       "  <line x1=\"31\" y1=\"141\" x2=\"151\" y2=\"141\" style=\"stroke-width:2\" />\n",
       "\n",
       "  <!-- Vertical lines -->\n",
       "  <line x1=\"31\" y1=\"21\" x2=\"31\" y2=\"141\" style=\"stroke-width:2\" />\n",
       "  <line x1=\"61\" y1=\"21\" x2=\"61\" y2=\"141\" />\n",
       "  <line x1=\"91\" y1=\"21\" x2=\"91\" y2=\"141\" />\n",
       "  <line x1=\"121\" y1=\"21\" x2=\"121\" y2=\"141\" />\n",
       "  <line x1=\"151\" y1=\"21\" x2=\"151\" y2=\"141\" style=\"stroke-width:2\" />\n",
       "\n",
       "  <!-- Colored Rectangle -->\n",
       "  <polygon points=\"31.065987488665783,21.065987488665783 151.06598748866577,21.065987488665783 151.06598748866577,141.06598748866577 31.065987488665783,141.06598748866577\" style=\"fill:#ECB172A0;stroke-width:0\"/>\n",
       "\n",
       "  <!-- Text -->\n",
       "  <text x=\"91.065987\" y=\"161.065987\" font-size=\"1.0rem\" font-weight=\"100\" text-anchor=\"middle\" >2048</text>\n",
       "  <text x=\"171.065987\" y=\"81.065987\" font-size=\"1.0rem\" font-weight=\"100\" text-anchor=\"middle\" transform=\"rotate(-90,171.065987,81.065987)\">2048</text>\n",
       "  <text x=\"10.532994\" y=\"150.532994\" font-size=\"1.0rem\" font-weight=\"100\" text-anchor=\"middle\" transform=\"rotate(45,10.532994,150.532994)\">127</text>\n",
       "</svg>\n",
       "</td>\n",
       "</tr>\n",
       "</table>"
      ],
      "text/plain": [
       "dask.array<rechunk-merge, shape=(127, 2048, 2048), dtype=>f4, chunksize=(25, 512, 512), chunktype=numpy.ndarray>"
      ]
     },
     "execution_count": 8,
     "metadata": {},
     "output_type": "execute_result"
    }
   ],
   "source": [
    "rechunked_cube = cube.rechunk((25, 512, 512))\n",
    "rechunked_cube._data"
   ]
  },
  {
   "cell_type": "markdown",
   "id": "97bd61f9-618e-440a-a819-0b81475657a6",
   "metadata": {},
   "source": [
    "You can control dask's functionality using dask directly.  The preferred approach is to use context managers, e.g., for progressbars and schedulers:"
   ]
  },
  {
   "cell_type": "code",
   "execution_count": 9,
   "id": "9ca00c80-c092-4e7a-848e-c1951362040e",
   "metadata": {},
   "outputs": [],
   "source": [
    "from dask.diagnostics import ProgressBar\n",
    "pbar = ProgressBar()"
   ]
  },
  {
   "cell_type": "code",
   "execution_count": 10,
   "id": "cc79de51-1bb6-400a-8d2b-faf975786696",
   "metadata": {},
   "outputs": [
    {
     "name": "stdout",
     "output_type": "stream",
     "text": [
      "[########################################] | 100% Completed |  6.2s\n"
     ]
    }
   ],
   "source": [
    "with pbar:\n",
    "    cube.mean()"
   ]
  },
  {
   "cell_type": "code",
   "execution_count": 11,
   "id": "5630307f-c806-4c1c-b5f3-96119cd1210e",
   "metadata": {},
   "outputs": [
    {
     "name": "stdout",
     "output_type": "stream",
     "text": [
      "[########################################] | 100% Completed |  5.4s\n"
     ]
    }
   ],
   "source": [
    "# the synchronous scheduler is the default\n",
    "# our default chunking uses 16 chunks\n",
    "with cube.use_dask_scheduler('synchronous'):\n",
    "    with pbar:\n",
    "        cube.mean()"
   ]
  },
  {
   "cell_type": "code",
   "execution_count": 12,
   "id": "eaf0c40b-fd67-4bc0-84ae-ad0eb9a78703",
   "metadata": {},
   "outputs": [
    {
     "name": "stdout",
     "output_type": "stream",
     "text": [
      "[########################################] | 100% Completed |  2.2s\n"
     ]
    }
   ],
   "source": [
    "# this version is slower if we load the whole cube into memory but potentially uses less memory & is parallel\n",
    "with cube.use_dask_scheduler('threads', num_workers=8):\n",
    "    with pbar:\n",
    "        cube.rechunk((25,512,512)).mean()"
   ]
  },
  {
   "cell_type": "markdown",
   "id": "ddb12da5-2107-4eaa-9201-e4651425ebe5",
   "metadata": {},
   "source": [
    "For some huge cubes & operations, it is necessary to save intermediate steps to disk.  "
   ]
  },
  {
   "cell_type": "code",
   "execution_count": 13,
   "id": "280f9331-9ee1-4e3b-be17-c9028734ebd7",
   "metadata": {},
   "outputs": [
    {
     "name": "stdout",
     "output_type": "stream",
     "text": [
      "[########################################] | 100% Completed |  4.9s\n"
     ]
    },
    {
     "data": {
      "text/html": [
       "<table>\n",
       "<tr>\n",
       "<td>\n",
       "<table>\n",
       "  <thead>\n",
       "    <tr><td> </td><th> Array </th><th> Chunk </th></tr>\n",
       "  </thead>\n",
       "  <tbody>\n",
       "    <tr><th> Bytes </th><td> 1.98 GiB </td> <td> 127.00 MiB </td></tr>\n",
       "    <tr><th> Shape </th><td> (127, 2048, 2048) </td> <td> (127, 512, 512) </td></tr>\n",
       "    <tr><th> Count </th><td> 17 Tasks </td><td> 16 Chunks </td></tr>\n",
       "    <tr><th> Type </th><td> >f4 </td><td> numpy.ndarray </td></tr>\n",
       "  </tbody>\n",
       "</table>\n",
       "</td>\n",
       "<td>\n",
       "<svg width=\"201\" height=\"191\" style=\"stroke:rgb(0,0,0);stroke-width:1\" >\n",
       "\n",
       "  <!-- Horizontal lines -->\n",
       "  <line x1=\"10\" y1=\"0\" x2=\"31\" y2=\"21\" style=\"stroke-width:2\" />\n",
       "  <line x1=\"10\" y1=\"30\" x2=\"31\" y2=\"51\" />\n",
       "  <line x1=\"10\" y1=\"60\" x2=\"31\" y2=\"81\" />\n",
       "  <line x1=\"10\" y1=\"90\" x2=\"31\" y2=\"111\" />\n",
       "  <line x1=\"10\" y1=\"120\" x2=\"31\" y2=\"141\" style=\"stroke-width:2\" />\n",
       "\n",
       "  <!-- Vertical lines -->\n",
       "  <line x1=\"10\" y1=\"0\" x2=\"10\" y2=\"120\" style=\"stroke-width:2\" />\n",
       "  <line x1=\"31\" y1=\"21\" x2=\"31\" y2=\"141\" style=\"stroke-width:2\" />\n",
       "\n",
       "  <!-- Colored Rectangle -->\n",
       "  <polygon points=\"10.0,0.0 31.065987488665783,21.065987488665783 31.065987488665783,141.06598748866577 10.0,120.0\" style=\"fill:#ECB172A0;stroke-width:0\"/>\n",
       "\n",
       "  <!-- Horizontal lines -->\n",
       "  <line x1=\"10\" y1=\"0\" x2=\"130\" y2=\"0\" style=\"stroke-width:2\" />\n",
       "  <line x1=\"31\" y1=\"21\" x2=\"151\" y2=\"21\" style=\"stroke-width:2\" />\n",
       "\n",
       "  <!-- Vertical lines -->\n",
       "  <line x1=\"10\" y1=\"0\" x2=\"31\" y2=\"21\" style=\"stroke-width:2\" />\n",
       "  <line x1=\"40\" y1=\"0\" x2=\"61\" y2=\"21\" />\n",
       "  <line x1=\"70\" y1=\"0\" x2=\"91\" y2=\"21\" />\n",
       "  <line x1=\"100\" y1=\"0\" x2=\"121\" y2=\"21\" />\n",
       "  <line x1=\"130\" y1=\"0\" x2=\"151\" y2=\"21\" style=\"stroke-width:2\" />\n",
       "\n",
       "  <!-- Colored Rectangle -->\n",
       "  <polygon points=\"10.0,0.0 130.0,0.0 151.06598748866577,21.065987488665783 31.065987488665783,21.065987488665783\" style=\"fill:#ECB172A0;stroke-width:0\"/>\n",
       "\n",
       "  <!-- Horizontal lines -->\n",
       "  <line x1=\"31\" y1=\"21\" x2=\"151\" y2=\"21\" style=\"stroke-width:2\" />\n",
       "  <line x1=\"31\" y1=\"51\" x2=\"151\" y2=\"51\" />\n",
       "  <line x1=\"31\" y1=\"81\" x2=\"151\" y2=\"81\" />\n",
       "  <line x1=\"31\" y1=\"111\" x2=\"151\" y2=\"111\" />\n",
       "  <line x1=\"31\" y1=\"141\" x2=\"151\" y2=\"141\" style=\"stroke-width:2\" />\n",
       "\n",
       "  <!-- Vertical lines -->\n",
       "  <line x1=\"31\" y1=\"21\" x2=\"31\" y2=\"141\" style=\"stroke-width:2\" />\n",
       "  <line x1=\"61\" y1=\"21\" x2=\"61\" y2=\"141\" />\n",
       "  <line x1=\"91\" y1=\"21\" x2=\"91\" y2=\"141\" />\n",
       "  <line x1=\"121\" y1=\"21\" x2=\"121\" y2=\"141\" />\n",
       "  <line x1=\"151\" y1=\"21\" x2=\"151\" y2=\"141\" style=\"stroke-width:2\" />\n",
       "\n",
       "  <!-- Colored Rectangle -->\n",
       "  <polygon points=\"31.065987488665783,21.065987488665783 151.06598748866577,21.065987488665783 151.06598748866577,141.06598748866577 31.065987488665783,141.06598748866577\" style=\"fill:#ECB172A0;stroke-width:0\"/>\n",
       "\n",
       "  <!-- Text -->\n",
       "  <text x=\"91.065987\" y=\"161.065987\" font-size=\"1.0rem\" font-weight=\"100\" text-anchor=\"middle\" >2048</text>\n",
       "  <text x=\"171.065987\" y=\"81.065987\" font-size=\"1.0rem\" font-weight=\"100\" text-anchor=\"middle\" transform=\"rotate(-90,171.065987,81.065987)\">2048</text>\n",
       "  <text x=\"10.532994\" y=\"150.532994\" font-size=\"1.0rem\" font-weight=\"100\" text-anchor=\"middle\" transform=\"rotate(45,10.532994,150.532994)\">127</text>\n",
       "</svg>\n",
       "</td>\n",
       "</tr>\n",
       "</table>"
      ],
      "text/plain": [
       "dask.array<from-zarr, shape=(127, 2048, 2048), dtype=>f4, chunksize=(127, 512, 512), chunktype=numpy.ndarray>"
      ]
     },
     "execution_count": 13,
     "metadata": {},
     "output_type": "execute_result"
    }
   ],
   "source": [
    "with pbar:\n",
    "    spectrally_chunked = cube.rechunk((-1,'auto','auto'), save_to_tmp_dir=True)\n",
    "spectrally_chunked._data"
   ]
  },
  {
   "cell_type": "markdown",
   "id": "fae7b44b-369e-4ea0-80ad-8e67e6240ecf",
   "metadata": {},
   "source": [
    "That `_data` is now saved on disk, which can be necessary for huge operations along dimensions that are hard to store in memory.  "
   ]
  },
  {
   "cell_type": "markdown",
   "id": "75d8a718-d042-47fb-9e48-de99d4c04c13",
   "metadata": {},
   "source": [
    "# Sigma Clipping example"
   ]
  },
  {
   "cell_type": "code",
   "execution_count": 15,
   "id": "52907eef-96f5-4807-a8aa-6e27d434dbd0",
   "metadata": {},
   "outputs": [
    {
     "name": "stdout",
     "output_type": "stream",
     "text": [
      "[########################################] | 100% Completed | 12.1s\n"
     ]
    }
   ],
   "source": [
    "with cube.use_dask_scheduler('synchronous'):\n",
    "    with pbar:\n",
    "        std = cube.std()"
   ]
  },
  {
   "cell_type": "code",
   "execution_count": 22,
   "id": "823bbd67-d0a2-4788-a59a-29ad49c9fc13",
   "metadata": {},
   "outputs": [
    {
     "name": "stdout",
     "output_type": "stream",
     "text": [
      "[####                                    ] | 12% Completed |  1.5s"
     ]
    },
    {
     "name": "stderr",
     "output_type": "stream",
     "text": [
      "WARNING: Input data contains invalid values (NaNs or infs), which were automatically clipped. [astropy.stats.sigma_clipping]\n"
     ]
    },
    {
     "name": "stdout",
     "output_type": "stream",
     "text": [
      "[########################################] | 100% Completed | 12.2s\n"
     ]
    }
   ],
   "source": [
    "with cube.use_dask_scheduler('threads', num_workers=16):\n",
    "    with pbar:\n",
    "        sigclip = cube.sigma_clip_spectrally(threshold=5, save_to_tmp_dir=True)"
   ]
  },
  {
   "cell_type": "code",
   "execution_count": 23,
   "id": "fb4c1990-9981-4952-8b89-2dbefcabd289",
   "metadata": {},
   "outputs": [
    {
     "data": {
      "image/png": "[encoded data removed]",
      "text/plain": [
       "<Figure size 432x288 with 1 Axes>"
      ]
     },
     "metadata": {
      "needs_background": "light"
     },
     "output_type": "display_data"
    }
   ],
   "source": [
    "sigclip.max(axis=0).quicklook()"
   ]
  },
  {
   "cell_type": "code",
   "execution_count": 24,
   "id": "9a488037-b357-47f3-b6bf-86f42e22ddbe",
   "metadata": {},
   "outputs": [
    {
     "data": {
      "image/png": "[encoded data removed]",
      "text/plain": [
       "<Figure size 432x288 with 1 Axes>"
      ]
     },
     "metadata": {
      "needs_background": "light"
     },
     "output_type": "display_data"
    }
   ],
   "source": [
    "cube.max(axis=0).quicklook()"
   ]
  }
 ],
 "metadata": {
  "kernelspec": {
   "display_name": "Python 3.9",
   "language": "python",
   "name": "py39"
  },
  "language_info": {
   "codemirror_mode": {
    "name": "ipython",
    "version": 3
   },
   "file_extension": ".py",
   "mimetype": "text/x-python",
   "name": "python",
   "nbconvert_exporter": "python",
   "pygments_lexer": "ipython3",
   "version": "3.9.6"
  }
 },
 "nbformat": 4,
 "nbformat_minor": 5
}
