{
 "cells": [
  {
   "cell_type": "markdown",
   "id": "precise-surface",
   "metadata": {},
   "source": [
    "# Extracting and Plotting Position-Velocity Diagrams\n",
    "\n",
    "## Authors\n",
    "Adam Ginsburg, Eric Koch\n",
    "\n",
    "## Learning Goals\n",
    "* Extract a position-velocity diagram from a cube using both pixel and sky coordinates using [pvextractor](https://pvextractor.readthedocs.io/en/latest/)\n",
    "* Display the position-velocity diagram with appropriately labeled coordinates\n",
    "* Display the extraction path on the plots\n",
    "\n",
    "## Keywords\n",
    "cube, pv-diagram\n",
    "\n",
    "## Summary\n",
    "In this tutorial, we will extract position-velocity (PV) diagrams from a cube and plot them."
   ]
  },
  {
   "cell_type": "markdown",
   "id": "naughty-thread",
   "metadata": {},
   "source": [
    "### Header material\n",
    "\n",
    "We import tools from several packages up front:"
   ]
  },
  {
   "cell_type": "code",
   "execution_count": null,
   "id": "looking-affiliation",
   "metadata": {},
   "outputs": [],
   "source": [
    "import pylab as pl\n",
    "import numpy as np\n",
    "from astropy.visualization import quantity_support\n",
    "from astropy import units as u\n",
    "from astropy import wcs\n",
    "\n",
    "# set so that these display properly on black backgrounds\n",
    "pl.rcParams['figure.facecolor']='w'\n",
    "\n",
    "from spectral_cube import SpectralCube\n",
    "\n",
    "from pvextractor import extract_pv_slice, Path"
   ]
  },
  {
   "cell_type": "markdown",
   "id": "alien-munich",
   "metadata": {},
   "source": [
    "Retrieve and open a cube from astropy-data:"
   ]
  },
  {
   "cell_type": "code",
   "execution_count": null,
   "id": "agreed-target",
   "metadata": {},
   "outputs": [],
   "source": [
    "cube = SpectralCube.read('http://www.astropy.org/astropy-data/l1448/l1448_13co.fits')\n",
    "cube"
   ]
  },
  {
   "cell_type": "markdown",
   "id": "conceptual-alcohol",
   "metadata": {},
   "source": [
    "Show single channel to find where to draw the path.\n",
    "We use pixel units so it's easier to define the path from the pixel coords in the matplotlib viewer."
   ]
  },
  {
   "cell_type": "code",
   "execution_count": null,
   "id": "fleet-covering",
   "metadata": {},
   "outputs": [],
   "source": [
    "pl.imshow(cube[25].value, origin='lower')"
   ]
  },
  {
   "cell_type": "markdown",
   "id": "jewish-location",
   "metadata": {},
   "source": [
    "# PV Extraction from Pixel Coordinates\n",
    "\n",
    "First we create an extraction path.  The entries are pairs of pixel coordinates, (x,y)"
   ]
  },
  {
   "cell_type": "code",
   "execution_count": null,
   "id": "accessory-hunter",
   "metadata": {},
   "outputs": [],
   "source": [
    "path = Path([(20,20), (40,40), (60,20)])"
   ]
  },
  {
   "cell_type": "markdown",
   "id": "piano-reset",
   "metadata": {},
   "source": [
    "Then we can overplot it on our figure, now with WCS shown.  The plotting uses [WCSAxes](https://docs.astropy.org/en/stable/visualization/wcsaxes/index.html)"
   ]
  },
  {
   "cell_type": "code",
   "execution_count": null,
   "id": "criminal-dragon",
   "metadata": {},
   "outputs": [],
   "source": [
    "ax = pl.subplot(111, projection=cube.wcs.celestial)\n",
    "ax.imshow(cube[25].value)\n",
    "path.show_on_axis(ax, spacing=1, color='r')"
   ]
  },
  {
   "cell_type": "markdown",
   "id": "radio-pound",
   "metadata": {},
   "source": [
    "`spacing` gives the separation between these points in pixels; we finely sampled by picking one-pixel spacing."
   ]
  },
  {
   "cell_type": "markdown",
   "id": "conditional-teens",
   "metadata": {},
   "source": [
    "We can then extract the pv diagram, specifying the same spacing."
   ]
  },
  {
   "cell_type": "code",
   "execution_count": null,
   "id": "rural-portugal",
   "metadata": {},
   "outputs": [],
   "source": [
    "pvdiagram = extract_pv_slice(cube=cube, path=path, spacing=1)\n",
    "pvdiagram"
   ]
  },
  {
   "cell_type": "markdown",
   "id": "enabling-escape",
   "metadata": {},
   "source": [
    "and plot it.  `pvdiagram` is a `PrimaryHDU` object, so we need to grab the header & data separately:"
   ]
  },
  {
   "cell_type": "code",
   "execution_count": null,
   "id": "defensive-width",
   "metadata": {},
   "outputs": [],
   "source": [
    "ax = pl.subplot(111, projection=wcs.WCS(pvdiagram.header))\n",
    "im = ax.imshow(pvdiagram.data)\n",
    "cb = pl.colorbar(mappable=im)\n",
    "# we could specify the colorbar units like this:\n",
    "# cb.set_label(cube.unit)\n",
    "# but the 'BUNIT' keyword is not set for these data, so we don't know the unit.  We instead manually specify:\n",
    "cb.set_label(\"Brightness Temperature [K]\")"
   ]
  },
  {
   "cell_type": "markdown",
   "id": "latin-bailey",
   "metadata": {},
   "source": [
    "Changing units to the more commonly used km/s and more readable arcminutes can be done with [wcsaxes tools](https://docs.astropy.org/en/stable/visualization/wcsaxes/controlling_axes.html):"
   ]
  },
  {
   "cell_type": "code",
   "execution_count": null,
   "id": "closing-citation",
   "metadata": {},
   "outputs": [],
   "source": [
    "ww = wcs.WCS(pvdiagram.header)\n",
    "\n",
    "ax = pl.subplot(111, projection=ww)\n",
    "im = ax.imshow(pvdiagram.data)\n",
    "cb = pl.colorbar(mappable=im)\n",
    "cb.set_label(\"Brightness Temperature [K]\")\n",
    "\n",
    "ax0 = ax.coords[0]\n",
    "ax0.set_format_unit(u.arcmin)\n",
    "ax1 = ax.coords[1]\n",
    "ax1.set_format_unit(u.km/u.s)\n",
    "\n",
    "ax.set_ylabel(\"Velocity [km/s]\")\n",
    "ax.set_xlabel(\"Offset [arcmin]\")"
   ]
  },
  {
   "cell_type": "markdown",
   "id": "metropolitan-philosophy",
   "metadata": {},
   "source": [
    "We can put all this together:"
   ]
  },
  {
   "cell_type": "code",
   "execution_count": null,
   "id": "iraqi-outdoors",
   "metadata": {},
   "outputs": [],
   "source": [
    "# we will use the peak intensity for future display\n",
    "# the warning here can be ignored because the cube is small,\n",
    "# but we don't silence it because it's a legit warning when dealing with big cubes\n",
    "mx = cube.max(axis=0).value"
   ]
  },
  {
   "cell_type": "code",
   "execution_count": null,
   "id": "sunset-comfort",
   "metadata": {},
   "outputs": [],
   "source": [
    "pl.figure(figsize=(12,6))\n",
    "ax = pl.subplot(121, projection=cube.wcs.celestial)\n",
    "ax.imshow(mx)\n",
    "path.show_on_axis(ax, spacing=1, color='r')\n",
    "\n",
    "ww = wcs.WCS(pvdiagram.header)\n",
    "\n",
    "ax = pl.subplot(122, projection=ww)\n",
    "im = ax.imshow(pvdiagram.data)\n",
    "\n",
    "ax0 = ax.coords[0]\n",
    "ax0.set_format_unit(u.arcmin)\n",
    "ax1 = ax.coords[1]\n",
    "ax1.set_format_unit(u.km/u.s)\n",
    "\n",
    "ax.set_ylabel(\"Velocity [km/s]\")\n",
    "ax.set_xlabel(\"Offset [arcmin]\")"
   ]
  },
  {
   "cell_type": "markdown",
   "id": "hired-award",
   "metadata": {},
   "source": [
    "# PV Extraction from Sky Coordinates"
   ]
  },
  {
   "cell_type": "markdown",
   "id": "regulated-gibson",
   "metadata": {},
   "source": [
    "We can also make paths using celestial coordinates:"
   ]
  },
  {
   "cell_type": "code",
   "execution_count": null,
   "id": "ranging-supplier",
   "metadata": {},
   "outputs": [],
   "source": [
    "from astropy.coordinates import SkyCoord"
   ]
  },
  {
   "cell_type": "code",
   "execution_count": null,
   "id": "sustainable-marks",
   "metadata": {},
   "outputs": [],
   "source": [
    "skypath = Path(SkyCoord([3.4, 3.43, 3.42]*u.h, [30.5, 30.75, 30.5]*u.deg, frame='fk5'))"
   ]
  },
  {
   "cell_type": "markdown",
   "id": "previous-lesson",
   "metadata": {},
   "source": [
    "We can plot again; the coordinates will be automatically determined"
   ]
  },
  {
   "cell_type": "code",
   "execution_count": null,
   "id": "cosmetic-custom",
   "metadata": {},
   "outputs": [],
   "source": [
    "ax = pl.subplot(111, projection=cube.wcs.celestial)\n",
    "ax.imshow(cube[25].value)\n",
    "skypath.show_on_axis(ax, spacing=1, color='r')"
   ]
  },
  {
   "cell_type": "code",
   "execution_count": null,
   "id": "earned-partnership",
   "metadata": {},
   "outputs": [],
   "source": [
    "pvdiagram2 = extract_pv_slice(cube=cube, path=skypath)\n",
    "pvdiagram2"
   ]
  },
  {
   "cell_type": "code",
   "execution_count": null,
   "id": "modular-weight",
   "metadata": {},
   "outputs": [],
   "source": [
    "pl.figure(figsize=(12,6))\n",
    "ax = pl.subplot(121, projection=cube.wcs.celestial)\n",
    "ax.imshow(mx)\n",
    "skypath.show_on_axis(ax, spacing=1, color='r')\n",
    "\n",
    "ww = wcs.WCS(pvdiagram2.header)\n",
    "\n",
    "ax = pl.subplot(122, projection=ww)\n",
    "im = ax.imshow(pvdiagram2.data)\n",
    "\n",
    "ax0 = ax.coords[0]\n",
    "ax0.set_format_unit(u.arcmin)\n",
    "ax1 = ax.coords[1]\n",
    "ax1.set_format_unit(u.km/u.s)\n",
    "\n",
    "ax.set_ylabel(\"Velocity [km/s]\")\n",
    "ax.set_xlabel(\"Offset [arcmin]\")"
   ]
  },
  {
   "cell_type": "markdown",
   "id": "governmental-drilling",
   "metadata": {},
   "source": [
    "We can also change the aspect ratio of the PV diagram:"
   ]
  },
  {
   "cell_type": "code",
   "execution_count": null,
   "id": "ordered-trace",
   "metadata": {},
   "outputs": [],
   "source": [
    "pl.figure(figsize=(12,6))\n",
    "ax = pl.subplot(121, projection=cube.wcs.celestial)\n",
    "ax.imshow(mx)\n",
    "skypath.show_on_axis(ax, spacing=1, color='r')\n",
    "\n",
    "ww = wcs.WCS(pvdiagram2.header)\n",
    "\n",
    "ax = pl.subplot(122, projection=ww)\n",
    "im = ax.imshow(pvdiagram2.data)\n",
    "ax.set_aspect(2)\n",
    "\n",
    "ax0 = ax.coords[0]\n",
    "ax0.set_format_unit(u.arcmin)\n",
    "ax1 = ax.coords[1]\n",
    "ax1.set_format_unit(u.km/u.s)\n",
    "\n",
    "ax.set_ylabel(\"Velocity [km/s]\")\n",
    "ax.set_xlabel(\"Offset [arcmin]\")"
   ]
  },
  {
   "cell_type": "markdown",
   "id": "dense-davis",
   "metadata": {},
   "source": [
    "## PV Extraction with Spatial Averaging"
   ]
  },
  {
   "cell_type": "markdown",
   "id": "turned-drinking",
   "metadata": {},
   "source": [
    "`pvextractor` allow you to specify a `width` to average over, which specifies a range around the path to average over:"
   ]
  },
  {
   "cell_type": "code",
   "execution_count": null,
   "id": "apparent-strip",
   "metadata": {},
   "outputs": [],
   "source": [
    "skypath2 = Path(SkyCoord([3.4, 3.429, 3.42]*u.h, [30.5, 30.75, 30.5]*u.deg, frame='fk5'), width=2*u.arcmin)"
   ]
  },
  {
   "cell_type": "code",
   "execution_count": null,
   "id": "infrared-runner",
   "metadata": {},
   "outputs": [],
   "source": [
    "pvdiagram3 = extract_pv_slice(cube=cube, path=skypath2)"
   ]
  },
  {
   "cell_type": "markdown",
   "id": "alike-blocking",
   "metadata": {},
   "source": [
    "We can plot this path as a set of patches to show where we averaged.  The default spacing is 1 pixel,so we plot 1-pixel chunks."
   ]
  },
  {
   "cell_type": "code",
   "execution_count": null,
   "id": "sunrise-reunion",
   "metadata": {},
   "outputs": [],
   "source": [
    "pl.figure(figsize=(12,6))\n",
    "ax = pl.subplot(121, projection=cube.wcs.celestial)\n",
    "ax.imshow(mx)\n",
    "\n",
    "skypath2.show_on_axis(ax, spacing=1,\n",
    "                      edgecolor='r', linestyle=':',\n",
    "                      linewidth=0.75)\n",
    "\n",
    "ww = wcs.WCS(pvdiagram3.header)\n",
    "\n",
    "ax = pl.subplot(122, projection=ww)\n",
    "im = ax.imshow(pvdiagram3.data)\n",
    "ax.set_aspect(2.5)\n",
    "\n",
    "cb = pl.colorbar(mappable=im)\n",
    "cb.set_label(\"Brightness Temperature [K]\")\n",
    "\n",
    "ax0 = ax.coords[0]\n",
    "ax0.set_format_unit(u.arcmin)\n",
    "ax1 = ax.coords[1]\n",
    "ax1.set_format_unit(u.km/u.s)\n",
    "\n",
    "ax.set_ylabel(\"Velocity [km/s]\")\n",
    "ax.set_xlabel(\"Offset [arcmin]\")"
   ]
  },
  {
   "cell_type": "markdown",
   "id": "charged-beast",
   "metadata": {},
   "source": [
    "We can also have more widely spaced chunks.\n",
    "\n",
    "Note that the spacing given to `extract_pv_slice` affects the shape of the output PV diagram, so we also change the aspect ratio:"
   ]
  },
  {
   "cell_type": "code",
   "execution_count": null,
   "id": "pediatric-constitution",
   "metadata": {},
   "outputs": [],
   "source": [
    "pvdiagram4 = extract_pv_slice(cube=cube, path=skypath2, spacing=5)\n",
    "\n",
    "pl.figure(figsize=(12,6))\n",
    "ax = pl.subplot(121, projection=cube.wcs.celestial)\n",
    "ax.imshow(mx)\n",
    "skypath2.show_on_axis(ax, spacing=5,\n",
    "                      edgecolor='w', linestyle=':',\n",
    "                      linewidth=0.75)\n",
    "\n",
    "ww = wcs.WCS(pvdiagram4.header)\n",
    "\n",
    "ax = pl.subplot(122, projection=ww)\n",
    "im = ax.imshow(pvdiagram4.data)\n",
    "cb = pl.colorbar(mappable=im)\n",
    "cb.set_label(\"Brightness Temperature [K]\")\n",
    "ax.set_aspect(0.5)\n",
    "\n",
    "ax0 = ax.coords[0]\n",
    "ax0.set_format_unit(u.arcmin)\n",
    "ax1 = ax.coords[1]\n",
    "ax1.set_format_unit(u.km/u.s)\n",
    "\n",
    "ax.set_ylabel(\"Velocity [km/s]\")\n",
    "ax.set_xlabel(\"Offset [arcmin]\")"
   ]
  },
  {
   "cell_type": "markdown",
   "id": "finished-template",
   "metadata": {},
   "source": [
    "## Saving\n",
    "\n",
    "Finally, we can save the extracted PV diagram as a FITS file:"
   ]
  },
  {
   "cell_type": "code",
   "execution_count": 21,
   "id": "disciplinary-study",
   "metadata": {},
   "outputs": [],
   "source": [
    "pvdiagram.writeto(\"saved_pvdiagram.fits\", overwrite=True)"
   ]
  }
 ],
 "metadata": {
  "kernelspec": {
   "display_name": "Py 3.9",
   "language": "python",
   "name": "python39"
  },
  "language_info": {
   "codemirror_mode": {
    "name": "ipython",
    "version": 3
   },
   "file_extension": ".py",
   "mimetype": "text/x-python",
   "name": "python",
   "nbconvert_exporter": "python",
   "pygments_lexer": "ipython3",
   "version": "3.9.2"
  }
 },
 "nbformat": 4,
 "nbformat_minor": 5
}
