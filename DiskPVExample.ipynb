{
 "cells": [
  {
   "cell_type": "markdown",
   "id": "accredited-termination",
   "metadata": {
    "tags": []
   },
   "source": [
    "# Position-Velocity Diagrams from Disks\n",
    "\n",
    "## Authors\n",
    "Adam Ginsburg, Eric Koch\n",
    "\n",
    "## Learning Goals\n",
    "* Extract a position-velocity diagram from a spectral cube of a protoplanetary disk using [pvextractor](https://pvextractor.readthedocs.io/en/latest/)\n",
    "* Extract a position-velocity diagram from a spectral cube of a protoplanetary disk using [reproject](https://reproject.readthedocs.io/en/stable/) via [spectral-cube](http://spectral-cube.readthedocs.io/) using a [region](https://astropy-regions.readthedocs.io/) mask\n",
    "\n",
    "## Keywords\n",
    "cube, pv-diagram\n",
    "\n",
    "## Summary\n",
    "In this tutorial, we will extract position-velocity (PV) diagrams from a cube of a disk and plot them."
   ]
  },
  {
   "cell_type": "markdown",
   "id": "different-requirement",
   "metadata": {},
   "source": [
    "# Requirements\n",
    "\n",
    "!pip install --upgrade spectral-cube git+https://github.com/radio-astro-tools/pvextractor.git@61e118aaf28e2d746deeccf06af8fdd7f405b815 radio-beam regions reproject"
   ]
  },
  {
   "cell_type": "code",
   "execution_count": null,
   "metadata": {},
   "outputs": [],
   "source": [
    "%pip install spectral-cube dask numpy matplotlib astropy\n",
    "%pip install --pre -U astroquery"
   ]
  },
  {
   "cell_type": "code",
   "execution_count": null,
   "id": "detected-trustee",
   "metadata": {},
   "outputs": [],
   "source": [
    "import numpy as np\n",
    "from astropy.utils.data import download_file\n",
    "from spectral_cube import SpectralCube\n",
    "from astropy import wcs\n",
    "import os"
   ]
  },
  {
   "cell_type": "code",
   "execution_count": null,
   "id": "seeing-issue",
   "metadata": {},
   "outputs": [],
   "source": [
    "import pylab as pl\n",
    "# set so that these display properly on black backgrounds\n",
    "pl.rcParams['figure.facecolor']='w'"
   ]
  },
  {
   "cell_type": "code",
   "execution_count": null,
   "id": "successful-chosen",
   "metadata": {},
   "outputs": [],
   "source": [
    "import radio_beam"
   ]
  },
  {
   "cell_type": "code",
   "execution_count": null,
   "id": "engaging-representation",
   "metadata": {},
   "outputs": [],
   "source": [
    "from astropy import units as u"
   ]
  },
  {
   "cell_type": "markdown",
   "id": "beautiful-cannon",
   "metadata": {},
   "source": [
    "We download a 2GB cube from the MAPS survey:"
   ]
  },
  {
   "cell_type": "code",
   "execution_count": null,
   "id": "emerging-cross",
   "metadata": {},
   "outputs": [],
   "source": [
    "filename = 'HD_163296_CO_220GHz.0.15arcsec.JvMcorr.image.pbcor.fits'\n",
    "if not os.path.exists(filename):\n",
    "    try:\n",
    "        filename = download_file('ftp://ftp.cv.nrao.edu/NRAO-staff/rloomis/MAPS/HD_163296/images/CO/0.15arcsec/HD_163296_CO_220GHz.0.15arcsec.JvMcorr.image.pbcor.fits', cache=True, timeout=10)\n",
    "    except:\n",
    "        import ftplib\n",
    "        ftp = ftplib.FTP('ftp.cv.nrao.edu')\n",
    "        ftp.login()\n",
    "        ftp.cwd('NRAO-staff/rloomis/MAPS/HD_163296/images/CO/0.15arcsec')\n",
    "        with open('HD_163296_CO_220GHz.0.15arcsec.JvMcorr.image.pbcor.fits', 'wb') as fp:\n",
    "            ftp.retrbinary('RETR HD_163296_CO_220GHz.0.15arcsec.JvMcorr.image.pbcor.fits', fp.write)\n",
    "        ftp.quit()"
   ]
  },
  {
   "cell_type": "code",
   "execution_count": null,
   "id": "charged-living",
   "metadata": {},
   "outputs": [],
   "source": [
    "# import ftplib\n",
    "# ftp = ftplib.FTP('ftp.cv.nrao.edu')\n",
    "# ftp.login()\n",
    "# ftp.cwd('NRAO-staff/rloomis/MAPS/HD_163296/images/CO/0.15arcsec')\n",
    "# with open('HD_163296_CO_220GHz.0.15arcsec.JvMcorr.image.pbcor.fits', 'wb') as fp:\n",
    "#     ftp.retrbinary('RETR HD_163296_CO_220GHz.0.15arcsec.JvMcorr.image.pbcor.fits', fp.write)\n",
    "# ftp.quit()"
   ]
  },
  {
   "cell_type": "markdown",
   "id": "satisfactory-smoke",
   "metadata": {},
   "source": [
    "We load the cube using the `dask` backend, which allows for some parallelization:"
   ]
  },
  {
   "cell_type": "code",
   "execution_count": null,
   "id": "powerful-emperor",
   "metadata": {},
   "outputs": [],
   "source": [
    "cube = SpectralCube.read(filename, use_dask=True)"
   ]
  },
  {
   "cell_type": "code",
   "execution_count": null,
   "id": "surrounded-monte",
   "metadata": {},
   "outputs": [],
   "source": [
    "cube"
   ]
  },
  {
   "cell_type": "code",
   "execution_count": null,
   "id": "diagnostic-synthesis",
   "metadata": {},
   "outputs": [],
   "source": [
    "mx = cube.max(axis=0)"
   ]
  },
  {
   "cell_type": "markdown",
   "id": "subsequent-rolling",
   "metadata": {},
   "source": [
    "A quick look at the image cube shows that there is a disk rotated about 45 degrees in the center of the frame:"
   ]
  },
  {
   "cell_type": "code",
   "execution_count": null,
   "id": "postal-artwork",
   "metadata": {},
   "outputs": [],
   "source": [
    "pl.imshow(mx.value, origin='lower')"
   ]
  },
  {
   "cell_type": "markdown",
   "id": "precious-distance",
   "metadata": {},
   "source": [
    "We can draw an ellipse around the disk to downselect only it:"
   ]
  },
  {
   "cell_type": "code",
   "execution_count": null,
   "id": "nominated-ordinance",
   "metadata": {},
   "outputs": [],
   "source": [
    "import regions"
   ]
  },
  {
   "cell_type": "code",
   "execution_count": null,
   "id": "delayed-sheep",
   "metadata": {},
   "outputs": [],
   "source": [
    "center = regions.PixCoord(1024, 1024)\n",
    "ellipse = regions.EllipsePixelRegion(center, width=550, height=400, angle=45*u.deg)"
   ]
  },
  {
   "cell_type": "code",
   "execution_count": null,
   "id": "transsexual-theory",
   "metadata": {},
   "outputs": [],
   "source": [
    "ax = pl.gca()\n",
    "ax.imshow(mx.value, origin='lower')\n",
    "ellipse.plot(ax=ax, facecolor='none', edgecolor='red', lw=2)"
   ]
  },
  {
   "cell_type": "markdown",
   "id": "latter-memphis",
   "metadata": {},
   "source": [
    "We make a cutout by creating a subcube using the ellipse region as a mask:"
   ]
  },
  {
   "cell_type": "code",
   "execution_count": null,
   "id": "protected-lender",
   "metadata": {},
   "outputs": [],
   "source": [
    "cutout = cube.subcube_from_regions([ellipse])\n",
    "cutout"
   ]
  },
  {
   "cell_type": "markdown",
   "id": "enclosed-region",
   "metadata": {},
   "source": [
    "Then we want to extract a position-velocity diagram across the disk.\n",
    "\n",
    "We specify a width of 200 pixels (we could go to ~400) so we average across the short axis of the disk:"
   ]
  },
  {
   "cell_type": "code",
   "execution_count": null,
   "id": "circular-masters",
   "metadata": {},
   "outputs": [],
   "source": [
    "import pvextractor"
   ]
  },
  {
   "cell_type": "code",
   "execution_count": null,
   "id": "attractive-marina",
   "metadata": {},
   "outputs": [],
   "source": [
    "path = pvextractor.Path([(0,0), (481,481)], width=200)"
   ]
  },
  {
   "cell_type": "markdown",
   "id": "interested-hungarian",
   "metadata": {},
   "source": [
    "We show the path overlaid on our cutout disk:"
   ]
  },
  {
   "cell_type": "code",
   "execution_count": null,
   "id": "derived-inclusion",
   "metadata": {},
   "outputs": [],
   "source": [
    "ax = pl.subplot(111, projection=cutout.wcs.celestial)\n",
    "ax.imshow(cutout.max(axis=0).value, origin='lower')\n",
    "path.show_on_axis(ax, spacing=5, alpha=0.7, linewidth=0.25)"
   ]
  },
  {
   "cell_type": "markdown",
   "id": "extended-column",
   "metadata": {},
   "source": [
    "Then, we extract the PV diagram.  We choose spacing=5 to average over 5 pixels.  This averaging isn't necessary, but does make the operation a little faster and increases the signal-to-noise ratio per spatial bin."
   ]
  },
  {
   "cell_type": "code",
   "execution_count": null,
   "id": "coastal-johnson",
   "metadata": {},
   "outputs": [],
   "source": [
    "pv = pvextractor.extract_pv_slice(cutout.with_spectral_unit(u.km/u.s, velocity_convention='radio'), path, spacing=5)"
   ]
  },
  {
   "cell_type": "markdown",
   "id": "literary-invasion",
   "metadata": {},
   "source": [
    "And plot the resulting diagram:"
   ]
  },
  {
   "cell_type": "code",
   "execution_count": null,
   "id": "virgin-civilian",
   "metadata": {},
   "outputs": [],
   "source": [
    "ax = pl.subplot(111, projection=wcs.WCS(pv.header))\n",
    "im = ax.imshow(pv.data)\n",
    "cb = pl.colorbar(mappable=im)\n",
    "cb.set_label(\"Brightness Temperature [K]\")\n",
    "ax.set_aspect(1)"
   ]
  },
  {
   "cell_type": "markdown",
   "id": "painful-tyler",
   "metadata": {},
   "source": [
    "# Second approach\n",
    "\n",
    "We can also reproject the whole cube by rotating 45 degrees.\n",
    "\n",
    "This requires making our own new header, which is a bit tedious, but effective."
   ]
  },
  {
   "cell_type": "code",
   "execution_count": null,
   "id": "handy-officer",
   "metadata": {},
   "outputs": [],
   "source": [
    "header = cutout.wcs.to_header()\n",
    "header['NAXIS'] = 3\n",
    "header['NAXIS1'] = 600\n",
    "header['NAXIS2'] = 400\n",
    "header['NAXIS3'] = cutout.shape[0]\n",
    "angle = 45*u.deg\n",
    "header['CD1_1'] = np.cos(angle).value * np.abs(cube.wcs.wcs.cdelt[0])\n",
    "header['CD2_1'] = -np.sin(angle).value * np.abs(cube.wcs.wcs.cdelt[0])\n",
    "header['CD1_2'] = np.sin(angle).value * np.abs(cube.wcs.wcs.cdelt[1])\n",
    "header['CD2_2'] = np.cos(angle).value * np.abs(cube.wcs.wcs.cdelt[1])\n",
    "header['CD3_3'] = cube.wcs.wcs.cdelt[2]\n",
    "header['CRPIX1'] = 300\n",
    "header['CRPIX2'] = 200"
   ]
  },
  {
   "cell_type": "markdown",
   "id": "mysterious-starter",
   "metadata": {},
   "source": [
    "We then reproject the whole cube, which takes a minute or two:"
   ]
  },
  {
   "cell_type": "code",
   "execution_count": null,
   "id": "decimal-field",
   "metadata": {},
   "outputs": [],
   "source": [
    "reproj = cutout.reproject(header)"
   ]
  },
  {
   "cell_type": "code",
   "execution_count": null,
   "id": "strong-rehabilitation",
   "metadata": {},
   "outputs": [],
   "source": [
    "reproj"
   ]
  },
  {
   "cell_type": "code",
   "execution_count": null,
   "id": "written-julian",
   "metadata": {},
   "outputs": [],
   "source": [
    "rmax = reproj.max(axis=0)"
   ]
  },
  {
   "cell_type": "code",
   "execution_count": null,
   "id": "interstate-cooler",
   "metadata": {},
   "outputs": [],
   "source": [
    "rmax.quicklook()"
   ]
  },
  {
   "cell_type": "markdown",
   "id": "acute-courtesy",
   "metadata": {},
   "source": [
    "Then, the position-velocity diagram is easy: we just take the average along the short axis:"
   ]
  },
  {
   "cell_type": "code",
   "execution_count": null,
   "id": "associate-jones",
   "metadata": {},
   "outputs": [],
   "source": [
    "pv2 = reproj.with_spectral_unit(u.km/u.s, velocity_convention='radio').mean(axis=1)"
   ]
  },
  {
   "cell_type": "code",
   "execution_count": null,
   "id": "opponent-generic",
   "metadata": {},
   "outputs": [],
   "source": [
    "ax = pl.subplot(111, projection=wcs.WCS(pv2.header))\n",
    "im = ax.imshow(pv2.data)\n",
    "cb = pl.colorbar(mappable=im)\n",
    "cb.set_label(\"Brightness Temperature [K]\")\n",
    "ax.set_aspect(4)"
   ]
  },
  {
   "cell_type": "code",
   "execution_count": null,
   "id": "judicial-reynolds",
   "metadata": {},
   "outputs": [],
   "source": []
  }
 ],
 "metadata": {
  "kernelspec": {
   "display_name": "Python 3 (ipykernel)",
   "language": "python",
   "name": "python3"
  },
  "language_info": {
   "codemirror_mode": {
    "name": "ipython",
    "version": 3
   },
   "file_extension": ".py",
   "mimetype": "text/x-python",
   "name": "python",
   "nbconvert_exporter": "python",
   "pygments_lexer": "ipython3",
   "version": "3.8.10"
  }
 },
 "nbformat": 4,
 "nbformat_minor": 5
}
