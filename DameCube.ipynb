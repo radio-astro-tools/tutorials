{
 "cells": [
  {
   "cell_type": "markdown",
   "id": "b73f64d0-aa4a-4422-b28d-8e80b20e39ae",
   "metadata": {},
   "source": [
    "# Identification of the far 3 kpc arm in the Dame 2001 CO map\n",
    "\n",
    "The data are here:\n",
    "\n",
    "https://lweb.cfa.harvard.edu/rtdc/CO/download/COGAL_all_interp.fits.gz\n",
    "\n",
    "The key result is in [Dame & Thaddeus (2008)](https://ui.adsabs.harvard.edu/abs/2008ApJ...683L.143D/abstract)."
   ]
  },
  {
      "cell_type": "code",
      "execution_count": null,
      "metadata": {},
      "outputs": [],
      "source": [
      "%pip install -r https://github.com/radio-astro-tools/tutorials/raw/master/requirements.txt\n",
      "%pip install --pre -U astroquery"
      ]
  },
  {
   "cell_type": "code",
   "execution_count": null,
   "id": "3af7c5c2-8689-4327-8697-ec2251b2d01e",
   "metadata": {},
   "outputs": [],
   "source": [
    "import pylab as pl\n",
    "pl.rcParams['figure.facecolor'] = 'w'\n",
    "pl.rcParams['image.origin'] = 'lower'\n",
    "pl.rcParams['image.interpolation'] = 'none'\n",
    "pl.rcParams['font.size'] = 16"
   ]
  },
  {
   "cell_type": "code",
   "execution_count": null,
   "id": "f30b33f9-a996-4af3-9f3d-2c28fad69e5a",
   "metadata": {},
   "outputs": [],
   "source": [
    "from dask.diagnostics import ProgressBar\n",
    "import dask\n",
    "dask.config.set(scheduler='threads')\n",
    "pbar = ProgressBar()\n",
    "pbar.register()"
   ]
  },
  {
   "cell_type": "code",
   "execution_count": null,
   "id": "7cffa818-9ef1-4e73-affd-6c44e9f8778b",
   "metadata": {},
   "outputs": [],
   "source": [
    "import numpy as np\n",
    "from spectral_cube import SpectralCube\n",
    "import radio_beam\n",
    "from astropy import units as u\n",
    "from astropy import convolution\n",
    "from astropy.coordinates import SkyCoord"
   ]
  },
  {
   "cell_type": "markdown",
   "id": "df112a14-bb6a-4aed-a404-9870b2466660",
   "metadata": {},
   "source": [
    "We load up the data and append the 1/8 degree beam (there's no beam in the original data header):"
   ]
  },
  {
   "cell_type": "code",
   "execution_count": null,
   "id": "f2116162-7896-4dfb-bf2d-cfcf168b6057",
   "metadata": {},
   "outputs": [],
   "source": [
    "from astropy.utils.data import download_file\n",
    "\n",
    "datafile = download_file(\n",
    "    'https://lweb.cfa.harvard.edu/rtdc/CO/download/COGAL_all_interp.fits.gz',\n",
    "    cache=True, show_progress=True)\n",
    "\n",
    "from spectral_cube import SpectralCube\n",
    "\n",
    "cube = SpectralCube.read(datafile, use_dask=True)\n",
    "cube = cube.with_beam(radio_beam.Beam(1/8*u.deg))\n",
    "# cube = cube.with_spectral_unit(u.km / u.s)"
   ]
  },
  {
   "cell_type": "code",
   "execution_count": null,
   "id": "73d171e5-257e-48a4-a377-02a46a65c126",
   "metadata": {},
   "outputs": [],
   "source": [
    "cube"
   ]
  },
  {
   "cell_type": "markdown",
   "id": "1650ae61-468d-4574-8305-e24c703c550a",
   "metadata": {},
   "source": [
    "We then create a mask based on the best-fit linear arm model from their Figure 1:\n",
    "\n",
    "(note that the header incorrectly specifies the velocity unit in m/s instead of km/s)"
   ]
  },
  {
   "cell_type": "code",
   "execution_count": null,
   "id": "7294bf39-5792-4f49-b095-501058773aa9",
   "metadata": {},
   "outputs": [],
   "source": [
    "lmin,lmax = -12, 12.5\n",
    "\n",
    "def v_of_l(ell):\n",
    "    return (56 + 4.0 * ell)*u.m/u.s\n",
    "\n",
    "far3kpcarm_mask = [(cube.spectral_axis > v_of_l(l)-13*u.m/u.s) &\n",
    "                   (cube.spectral_axis < v_of_l(l)+13*u.m/u.s)\n",
    "                   for l in np.arange(lmax, lmin-0.01, -1/8.)]\n",
    "far3kpcarm_mask = np.array(far3kpcarm_mask)"
   ]
  },
  {
   "cell_type": "markdown",
   "id": "53d6f369-e345-4e0d-82de-3589dbe8a256",
   "metadata": {},
   "source": [
    "Find the corners to cut out of the image to match Fig 3:"
   ]
  },
  {
   "cell_type": "code",
   "execution_count": null,
   "id": "fd63d384-fbad-42dd-821e-babae7568068",
   "metadata": {},
   "outputs": [],
   "source": [
    "xmin,ymin = cube.wcs.celestial.world_to_pixel(SkyCoord(lmin*u.deg,-2.5*u.deg,frame='galactic'))\n",
    "xmax,ymax = cube.wcs.celestial.world_to_pixel(SkyCoord(lmax*u.deg,2.5*u.deg,frame='galactic'))"
   ]
  },
  {
   "cell_type": "markdown",
   "id": "4b8a279c-b1a5-4797-a2bf-997d7b64589d",
   "metadata": {},
   "source": [
    "Calculate the moment map:"
   ]
  },
  {
   "cell_type": "code",
   "execution_count": null,
   "id": "89e82122-8f96-4642-ab8a-87a352cea6f3",
   "metadata": {
    "tags": []
   },
   "outputs": [],
   "source": [
    "far3kpcarm = cube[:,int(ymin):int(ymax)+1,int(xmax):int(xmin)].with_mask(far3kpcarm_mask.T[:,None,:])\n",
    "f3m0 = far3kpcarm.moment0()"
   ]
  },
  {
   "cell_type": "code",
   "execution_count": null,
   "id": "41d6ccca-7a88-42fa-a591-4799cbbc224e",
   "metadata": {},
   "outputs": [],
   "source": [
    "pl.figure(figsize=(15,10))\n",
    "ax = pl.subplot(projection=far3kpcarm.wcs.celestial)\n",
    "pl.imshow(f3m0.value, vmax=5, vmin=0, origin='lower', cmap='gray_r', interpolation='none',)\n",
    "cm = pl.cm.inferno.copy()\n",
    "cm.set_bad((0,0,0,0))\n",
    "pl.imshow(np.where(f3m0.value > 5, f3m0.value, np.nan), vmax=25, vmin=5, origin='lower', interpolation='none',\n",
    "          cmap=cm)\n",
    "ax.coords[0].set_axislabel('Galactic Longitude')\n",
    "ax.coords[1].set_axislabel('Galactic Latitude')"
   ]
  },
  {
   "cell_type": "markdown",
   "id": "3abc2b00-1894-4dc7-bf12-7c1ffe31d5da",
   "metadata": {},
   "source": [
    "Compare to theirs:\n",
    "    \n",
    "<img src=\"https://s3.amazonaws.com/aasie/images/1538-4357/683/2/L143/10_1086_591669_fg3_lr.gif\">"
   ]
  }
 ],
 "metadata": {
  "kernelspec": {
   "display_name": "Python 3 (ipykernel)",
   "language": "python",
   "name": "python3"
  },
  "language_info": {
   "codemirror_mode": {
    "name": "ipython",
    "version": 3
   },
   "file_extension": ".py",
   "mimetype": "text/x-python",
   "name": "python",
   "nbconvert_exporter": "python",
   "pygments_lexer": "ipython3",
   "version": "3.8.10"
  }
 },
 "nbformat": 4,
 "nbformat_minor": 5
}
