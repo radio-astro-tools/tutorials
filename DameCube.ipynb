{
 "cells": [
  {
   "cell_type": "code",
   "execution_count": 1,
   "id": "3af7c5c2-8689-4327-8697-ec2251b2d01e",
   "metadata": {},
   "outputs": [],
   "source": [
    "import pylab as pl\n",
    "pl.rcParams['figure.facecolor'] = 'w'\n",
    "pl.rcParams['image.origin'] = 'lower'\n",
    "pl.rcParams['image.interpolation'] = 'none'\n",
    "pl.rcParams['font.size'] = 16"
   ]
  },
  {
   "cell_type": "markdown",
   "id": "5d4c54d5-c332-4819-b563-8306596a7502",
   "metadata": {
    "jupyter": {
     "outputs_hidden": true
    },
    "tags": []
   },
   "source": [
    "%%bash\n",
    "wget https://lweb.cfa.harvard.edu/rtdc/CO/download/COGAL_all_interp.fits.gz"
   ]
  },
  {
   "cell_type": "code",
   "execution_count": 2,
   "id": "f30b33f9-a996-4af3-9f3d-2c28fad69e5a",
   "metadata": {},
   "outputs": [],
   "source": [
    "from dask.diagnostics import ProgressBar\n",
    "import dask\n",
    "dask.config.set(scheduler='threads')\n",
    "pbar = ProgressBar()\n",
    "pbar.register()"
   ]
  },
  {
   "cell_type": "code",
   "execution_count": 3,
   "id": "7cffa818-9ef1-4e73-affd-6c44e9f8778b",
   "metadata": {},
   "outputs": [],
   "source": [
    "from spectral_cube import SpectralCube\n",
    "import radio_beam\n",
    "from astropy import units as u\n",
    "from astropy import convolution\n",
    "from astropy.coordinates import SkyCoord"
   ]
  },
  {
   "cell_type": "code",
   "execution_count": 4,
   "id": "f2116162-7896-4dfb-bf2d-cfcf168b6057",
   "metadata": {},
   "outputs": [],
   "source": [
    "cube = SpectralCube.read(\"COGAL_all_interp.fits.gz\", use_dask=True).with_beam(radio_beam.Beam(1/8*u.deg))"
   ]
  },
  {
   "cell_type": "code",
   "execution_count": null,
   "id": "7294bf39-5792-4f49-b095-501058773aa9",
   "metadata": {},
   "outputs": [],
   "source": [
    "def v_of_l(ell):\n",
    "    return (56 + 4.0 * ell)*u.m/u.s\n",
    "far3kpcarm_mask = [(cube.spectral_axis > v_of_l(l)-13*u.m/u.s) &\n",
    "                   (cube.spectral_axis < v_of_l(l)+13*u.m/u.s)\n",
    "                   for l in np.arange(12.5, -12.01, -1/8.)]\n",
    "far3kpcarm_mask = np.array(far3kpcarm_mask)"
   ]
  },
  {
   "cell_type": "code",
   "execution_count": null,
   "id": "fd63d384-fbad-42dd-821e-babae7568068",
   "metadata": {},
   "outputs": [],
   "source": [
    "xmin,ymin = cube.wcs.celestial.world_to_pixel(SkyCoord(-12.0*u.deg,-2.5*u.deg,frame='galactic'))\n",
    "xmax,ymax = cube.wcs.celestial.world_to_pixel(SkyCoord(12.5*u.deg,2.5*u.deg,frame='galactic'))"
   ]
  },
  {
   "cell_type": "code",
   "execution_count": null,
   "id": "89e82122-8f96-4642-ab8a-87a352cea6f3",
   "metadata": {
    "tags": []
   },
   "outputs": [],
   "source": [
    "far3kpcarm = cube[:,int(ymin):int(ymax)+1,int(xmax):int(xmin)].with_mask(far3kpcarm_mask.T[:,None,:])\n",
    "f3m0 = far3kpcarm.moment0()"
   ]
  },
  {
   "cell_type": "code",
   "execution_count": null,
   "id": "41d6ccca-7a88-42fa-a591-4799cbbc224e",
   "metadata": {},
   "outputs": [],
   "source": [
    "pl.figure(figsize=(15,10))\n",
    "ax = pl.subplot(projection=far3kpcarm.wcs.celestial)\n",
    "pl.imshow(f3m0.value, vmax=5, vmin=0, origin='lower', cmap='gray_r', interpolation='none',)\n",
    "cm = pl.cm.inferno.copy()\n",
    "cm.set_bad((0,0,0,0))\n",
    "pl.imshow(np.where(f3m0.value > 5, f3m0.value, np.nan), vmax=25, vmin=5, origin='lower', interpolation='none',\n",
    "          cmap=cm)\n",
    "ax.coords[0].set_axislabel('Galactic Longitude')\n",
    "ax.coords[1].set_axislabel('Galactic Latitude')"
   ]
  }
 ],
 "metadata": {
  "kernelspec": {
   "display_name": "py39",
   "language": "python",
   "name": "py39"
  },
  "language_info": {
   "codemirror_mode": {
    "name": "ipython",
    "version": 3
   },
   "file_extension": ".py",
   "mimetype": "text/x-python",
   "name": "python",
   "nbconvert_exporter": "python",
   "pygments_lexer": "ipython3",
   "version": "3.9.6"
  }
 },
 "nbformat": 4,
 "nbformat_minor": 5
}
